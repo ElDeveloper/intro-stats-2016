{
 "cells": [
  {
   "cell_type": "markdown",
   "metadata": {
    "slideshow": {
     "slide_type": "slide"
    }
   },
   "source": [
    "# Week 2 Hypothesis Testing\n",
    "\n"
   ]
  },
  {
   "cell_type": "code",
   "execution_count": 2,
   "metadata": {
    "collapsed": false,
    "slideshow": {
     "slide_type": "skip"
    }
   },
   "outputs": [
    {
     "data": {
      "text/plain": [
       "{'start_slideshow_at': 'selected', 'theme': 'serif', 'transition': 'fade'}"
      ]
     },
     "execution_count": 2,
     "metadata": {},
     "output_type": "execute_result"
    }
   ],
   "source": [
    "\n",
    "# setup the presentation settings\n",
    "from notebook.services.config import ConfigManager\n",
    "cm = ConfigManager()\n",
    "cm.update('livereveal', {\n",
    "              'theme': 'serif',\n",
    "              'start_slideshow_at': 'selected',\n",
    "              'transition': 'fade'\n",
    "})"
   ]
  },
  {
   "cell_type": "markdown",
   "metadata": {
    "slideshow": {
     "slide_type": "slide"
    }
   },
   "source": [
    "# Science and Hypothesis\n",
    "\n",
    "- Last time we talked about probability.\n",
    "- But we are not gamblers. We are SCIENTISTS. We want to learn about the world we live in...\n",
    "- The scientific process:\n",
    "  - Hypothesize something about the world\n",
    "  - devise an experiment that can falsify it\n",
    "  -  and see if the hypothesis still holds\n",
    "\n",
    "So here comes hypothesis testing..."
   ]
  },
  {
   "cell_type": "markdown",
   "metadata": {
    "slideshow": {
     "slide_type": "slide"
    }
   },
   "source": [
    "# Science and Hypothesis (continued)\n",
    "\n",
    "Sometimes life is easy:\n",
    "-  Hypothesis: all bacteria are good\n",
    "-  But then we see pathogenic e. coli\n",
    "-  So it falsifies our hypothesis. Back to the drawing board...\n",
    "\n",
    "But usually it's not that easy to falsify an hypthesis:\n",
    "- Hypothesis: sick people have e. coli\n",
    "- and we test 10 people and see they all have e. coli\n",
    "- what does it mean about our hypothesis? Is 10 enough? 100? 1000000?\n",
    "\n",
    "We need the power of STATISTICS!"
   ]
  },
  {
   "cell_type": "markdown",
   "metadata": {
    "slideshow": {
     "slide_type": "slide"
    }
   },
   "source": [
    "# What is a (statistical) hypothesis?\n",
    "\n",
    "A statistical hypothesis is a hypothesis that is testable on the basis of observing a process that \n",
    "is modeled via a set of random variables.\n",
    "\n",
    "In statistics, when we say hypothesis testing, we usually inquire if the evidence supports our hypothesis.\n",
    "\n",
    "If so, to what degree?"
   ]
  },
  {
   "cell_type": "markdown",
   "metadata": {
    "slideshow": {
     "slide_type": "slide"
    }
   },
   "source": [
    "# Bayesian and Frequentist Approaches\n",
    "\n",
    "__Bayesian__: Given an observation X, what are the probabilities of the different hypothesis? Or sometimes, given a set of hypothesis, is there one which is one more likely than the other given the observation?\n",
    "\n",
    "__Frequentist__: what is the probability of getting observation X under the null hypothesis $H_0$. If it is very low, we assume it is incorrect.\n",
    "\n",
    "We will focus on Frequentist approach"
   ]
  },
  {
   "cell_type": "markdown",
   "metadata": {
    "slideshow": {
     "slide_type": "slide"
    }
   },
   "source": [
    "# Frequentist Testing process - Informal Example\n",
    "\n",
    "Say we have a coin and we want to test if it is fair or not.\n",
    "\n",
    "Assume we flipped the coin 1000 times and observed 995 Heads. We would suspect that the coin has a bias towards giving Head vs. Tail.\n"
   ]
  },
  {
   "cell_type": "markdown",
   "metadata": {
    "slideshow": {
     "slide_type": "slide"
    }
   },
   "source": [
    "# Frequentist Testing process - Example continued\n",
    "\n",
    "So what is going on?\n",
    "\n",
    "In our mind, there are two probable options, one is that the coin is fair ($P(H)=P(T)=0.5$) and the other is that the coin has some bias towards one side vs. the other (we don't know what bias exactly).\n",
    "\n",
    "We can calculate the probabilities of the fair coin (exact null hypothesis), and based on the unfair model, we can say what result is more unfair than others..."
   ]
  },
  {
   "cell_type": "markdown",
   "metadata": {
    "slideshow": {
     "slide_type": "slide"
    }
   },
   "source": [
    "# Frequentist Testing process - the ground is shaky\n",
    "\n",
    "Say we flip a coin and we get:\n",
    "\n",
    "HHTHHHHHHHTTHHHHHTHTHTHHTHTTH\n",
    "\n",
    "looks relatively fair coin,\n"
   ]
  },
  {
   "cell_type": "markdown",
   "metadata": {
    "slideshow": {
     "slide_type": "fragment"
    }
   },
   "source": [
    "but if we translate to morse code (-=H, .=T)\n",
    "\n",
    "--. --- --- -.. -- --- .-. -. .. -. --.\n",
    "\n",
    "which means:\n",
    "Good Morning!"
   ]
  },
  {
   "cell_type": "markdown",
   "metadata": {
    "slideshow": {
     "slide_type": "fragment"
    }
   },
   "source": [
    "So is it random? what is the probability of getting this by chance?\n",
    "\n",
    "The probability of any single set of n coin flips is $2^{-n}$, but that doesn't help us.\n",
    "\n",
    "We need to define what results are interesting (give an order to the results).\n",
    "\n",
    "What about morse code for German? Where do we stop?\n",
    "\n",
    "So we need some idea of the non-null hypothesis"
   ]
  },
  {
   "cell_type": "markdown",
   "metadata": {
    "slideshow": {
     "slide_type": "slide"
    }
   },
   "source": [
    "# Sick vs Healthy simulation\n",
    "\n",
    "Let's construct a simple example\n",
    "- There are 200 people being surveyed\n",
    "  - 100 of these people are healthy and the rest are sick\n",
    "- Concentrations of H pylori are measured\n",
    "\n",
    "- Is there a difference between sick and healthy people based on H pylori concentration?\n"
   ]
  },
  {
   "cell_type": "code",
   "execution_count": 85,
   "metadata": {
    "collapsed": false,
    "slideshow": {
     "slide_type": "skip"
    }
   },
   "outputs": [],
   "source": [
    "import warnings   # running fast and loose\n",
    "warnings.simplefilter(\"ignore\") \n",
    "\n",
    "import numpy as np\n",
    "import pandas as pd\n",
    "import seaborn as sns\n",
    "import matplotlib.pyplot as plt\n",
    "from scipy.stats import ttest_ind, mannwhitneyu\n",
    "from statsmodels.sandbox.stats.multicomp import multipletests\n",
    "from numpy.random import normal, shuffle, permutation\n",
    "\n",
    "%matplotlib inline"
   ]
  },
  {
   "cell_type": "code",
   "execution_count": 43,
   "metadata": {
    "collapsed": true,
    "slideshow": {
     "slide_type": "skip"
    }
   },
   "outputs": [],
   "source": [
    "np.random.seed(0)    # set seed for the random numbers"
   ]
  },
  {
   "cell_type": "code",
   "execution_count": 44,
   "metadata": {
    "collapsed": false,
    "slideshow": {
     "slide_type": "slide"
    }
   },
   "outputs": [],
   "source": [
    "sick_mean    = 8\n",
    "healthy_mean = 5\n",
    "variance     = 2\n",
    "num_sick     = 100\n",
    "num_healthy  = 100\n",
    "sick_data    = np.random.normal(sick_mean, variance, num_sick)\n",
    "healthy_data = np.random.normal(healthy_mean, variance, num_healthy)\n",
    "data = pd.DataFrame({'group': ['sick']*num_sick + ['healthy']*num_healthy,\n",
    "                     'H pylori': np.concatenate((sick_data, healthy_data))})"
   ]
  },
  {
   "cell_type": "code",
   "execution_count": 45,
   "metadata": {
    "collapsed": false,
    "slideshow": {
     "slide_type": "fragment"
    }
   },
   "outputs": [
    {
     "data": {
      "text/html": [
       "<div>\n",
       "<table border=\"1\" class=\"dataframe\">\n",
       "  <thead>\n",
       "    <tr style=\"text-align: right;\">\n",
       "      <th></th>\n",
       "      <th>H pylori</th>\n",
       "      <th>group</th>\n",
       "    </tr>\n",
       "  </thead>\n",
       "  <tbody>\n",
       "    <tr>\n",
       "      <th>0</th>\n",
       "      <td>11.528105</td>\n",
       "      <td>sick</td>\n",
       "    </tr>\n",
       "    <tr>\n",
       "      <th>1</th>\n",
       "      <td>8.800314</td>\n",
       "      <td>sick</td>\n",
       "    </tr>\n",
       "    <tr>\n",
       "      <th>2</th>\n",
       "      <td>9.957476</td>\n",
       "      <td>sick</td>\n",
       "    </tr>\n",
       "    <tr>\n",
       "      <th>3</th>\n",
       "      <td>12.481786</td>\n",
       "      <td>sick</td>\n",
       "    </tr>\n",
       "  </tbody>\n",
       "</table>\n",
       "</div>"
      ],
      "text/plain": [
       "    H pylori group\n",
       "0  11.528105  sick\n",
       "1   8.800314  sick\n",
       "2   9.957476  sick\n",
       "3  12.481786  sick"
      ]
     },
     "execution_count": 45,
     "metadata": {},
     "output_type": "execute_result"
    }
   ],
   "source": [
    "data.head(n=4)"
   ]
  },
  {
   "cell_type": "code",
   "execution_count": 46,
   "metadata": {
    "collapsed": false,
    "slideshow": {
     "slide_type": "fragment"
    }
   },
   "outputs": [
    {
     "data": {
      "text/html": [
       "<div>\n",
       "<table border=\"1\" class=\"dataframe\">\n",
       "  <thead>\n",
       "    <tr style=\"text-align: right;\">\n",
       "      <th></th>\n",
       "      <th>H pylori</th>\n",
       "      <th>group</th>\n",
       "    </tr>\n",
       "  </thead>\n",
       "  <tbody>\n",
       "    <tr>\n",
       "      <th>196</th>\n",
       "      <td>6.543581</td>\n",
       "      <td>healthy</td>\n",
       "    </tr>\n",
       "    <tr>\n",
       "      <th>197</th>\n",
       "      <td>6.647008</td>\n",
       "      <td>healthy</td>\n",
       "    </tr>\n",
       "    <tr>\n",
       "      <th>198</th>\n",
       "      <td>9.326472</td>\n",
       "      <td>healthy</td>\n",
       "    </tr>\n",
       "    <tr>\n",
       "      <th>199</th>\n",
       "      <td>7.673056</td>\n",
       "      <td>healthy</td>\n",
       "    </tr>\n",
       "  </tbody>\n",
       "</table>\n",
       "</div>"
      ],
      "text/plain": [
       "     H pylori    group\n",
       "196  6.543581  healthy\n",
       "197  6.647008  healthy\n",
       "198  9.326472  healthy\n",
       "199  7.673056  healthy"
      ]
     },
     "execution_count": 46,
     "metadata": {},
     "output_type": "execute_result"
    }
   ],
   "source": [
    "data.tail(n=4)"
   ]
  },
  {
   "cell_type": "code",
   "execution_count": 47,
   "metadata": {
    "collapsed": false,
    "slideshow": {
     "slide_type": "slide"
    }
   },
   "outputs": [
    {
     "data": {
      "text/plain": [
       "<matplotlib.legend.Legend at 0x10e54b550>"
      ]
     },
     "execution_count": 47,
     "metadata": {},
     "output_type": "execute_result"
    },
    {
     "data": {
      "image/png": "[encoded data removed]",
      "text/plain": [
       "<matplotlib.figure.Figure at 0x10e538d30>"
      ]
     },
     "metadata": {},
     "output_type": "display_data"
    }
   ],
   "source": [
    "# Plot H pylori distribution for the sick group\n",
    "sns.distplot(data.loc[data.group=='sick', 'H pylori'],     \n",
    "             label='sick', kde=False, bins=10)\n",
    "# Plot H pylori distribution for the healthy group\n",
    "sns.distplot(data.loc[data.group=='healthy', 'H pylori'],\n",
    "             label='healthy', kde=False, bins=10)\n",
    "plt.legend()"
   ]
  },
  {
   "cell_type": "markdown",
   "metadata": {
    "slideshow": {
     "slide_type": "slide"
    }
   },
   "source": [
    "What is our hypothesis?\n",
    "\n",
    "The sick and healthy distributions have different means.\n",
    "\n",
    "More precisely\n",
    "\n",
    "$H_a: \\mu_H \\neq \\mu_S$\n",
    "\n",
    "$H_0: \\mu_H= \\mu_S$\n",
    "\n",
    "H = Healthy\n",
    "\n",
    "S = Sick"
   ]
  },
  {
   "cell_type": "markdown",
   "metadata": {
    "slideshow": {
     "slide_type": "slide"
    }
   },
   "source": [
    "# What's the outcome\n",
    "\n",
    "\n",
    "we get a p-value. what does it mean? \n",
    "\n",
    "The p-value is the probability of getting such a result or more extreme under the null hypothesis. If it is very low, we would like to reject the null hypothesis (say it is incorrect).\n",
    "\n",
    "Note that a (relatively) high p-value does not indicate that the null hypothesis is true. just that we cannot rule it out (i.e. one coin toss). Especially since our $H_a$ model is not well defined.\n",
    "\n",
    "what cutoff should we take?\n",
    "\n",
    "0.05!"
   ]
  },
  {
   "cell_type": "markdown",
   "metadata": {
    "slideshow": {
     "slide_type": "slide"
    }
   },
   "source": [
    "# False positive and false negative errors\n",
    "\n",
    "False positive (type 1) - we reject the null hypothesis when in reality it is correct\n",
    "\n",
    "$\\alpha = P(reject\\; H_0\\; |\\; H_0\\; is\\; True)$\n",
    "\n",
    "False negative (type 2) - we don't reject the null hypothesis when in reality it is incorrect\n",
    "\n",
    "$\\beta = P(reject\\; H_0\\; |\\; H_a\\; is\\; True)$\n"
   ]
  },
  {
   "cell_type": "markdown",
   "metadata": {
    "slideshow": {
     "slide_type": "slide"
    }
   },
   "source": [
    "# False positive and false negative errors\n",
    "\n",
    "<img src=\"files/type-i-and-type-ii-errors.jpg\">"
   ]
  },
  {
   "cell_type": "markdown",
   "metadata": {
    "slideshow": {
     "slide_type": "slide"
    }
   },
   "source": [
    "# Bad estimators\n",
    "Always accept $H_0$  \n",
    "\n",
    "$\\alpha=0$ -> No Type I errors\n",
    "\n",
    "Always reject $H_0$  \n",
    "\n",
    "$\\beta=0$ -> No Type II errors\n",
    "\n",
    "The frequentist approach : control the Type I error, but little control over Type II error"
   ]
  },
  {
   "cell_type": "markdown",
   "metadata": {
    "slideshow": {
     "slide_type": "slide"
    }
   },
   "source": [
    "# Sick vs healthy example (continued)\n",
    "\n",
    "$H_a: \\mu_H \\neq \\mu_S$  The means between sick and healthy are different\n",
    "\n",
    "$H_0: \\mu_H= \\mu_S$ The means are the same\n",
    "\n",
    "pvalue = the probability we acknowledge that sick and healthy are different given that they are the same\n",
    "\n",
    "We will use the [t-test](https://en.wikipedia.org/wiki/Student%27s_t-test) to estimate this probability\n",
    "    "
   ]
  },
  {
   "cell_type": "code",
   "execution_count": 48,
   "metadata": {
    "collapsed": true,
    "slideshow": {
     "slide_type": "subslide"
    }
   },
   "outputs": [],
   "source": [
    "t, pvalue = ttest_ind(data.loc[data.group=='sick', 'H pylori'],\n",
    "                      data.loc[data.group=='healthy', 'H pylori'])"
   ]
  },
  {
   "cell_type": "code",
   "execution_count": 49,
   "metadata": {
    "collapsed": false,
    "slideshow": {
     "slide_type": "fragment"
    }
   },
   "outputs": [
    {
     "data": {
      "text/plain": [
       "10.179745677305018"
      ]
     },
     "execution_count": 49,
     "metadata": {},
     "output_type": "execute_result"
    }
   ],
   "source": [
    "t"
   ]
  },
  {
   "cell_type": "code",
   "execution_count": 50,
   "metadata": {
    "collapsed": false,
    "slideshow": {
     "slide_type": "fragment"
    }
   },
   "outputs": [
    {
     "data": {
      "text/plain": [
       "7.6431617406052428e-20"
      ]
     },
     "execution_count": 50,
     "metadata": {},
     "output_type": "execute_result"
    }
   ],
   "source": [
    "pvalue"
   ]
  },
  {
   "cell_type": "code",
   "execution_count": 51,
   "metadata": {
    "collapsed": true,
    "slideshow": {
     "slide_type": "subslide"
    }
   },
   "outputs": [],
   "source": [
    "u, pvalue = mannwhitneyu(data.loc[data.group=='sick', 'H pylori'],\n",
    "                         data.loc[data.group=='healthy', 'H pylori'])"
   ]
  },
  {
   "cell_type": "code",
   "execution_count": 52,
   "metadata": {
    "collapsed": false,
    "slideshow": {
     "slide_type": "fragment"
    }
   },
   "outputs": [
    {
     "data": {
      "text/plain": [
       "1623.0"
      ]
     },
     "execution_count": 52,
     "metadata": {},
     "output_type": "execute_result"
    }
   ],
   "source": [
    "u"
   ]
  },
  {
   "cell_type": "code",
   "execution_count": 53,
   "metadata": {
    "collapsed": false,
    "slideshow": {
     "slide_type": "fragment"
    }
   },
   "outputs": [
    {
     "data": {
      "text/plain": [
       "7.9129312462118361e-17"
      ]
     },
     "execution_count": 53,
     "metadata": {},
     "output_type": "execute_result"
    }
   ],
   "source": [
    "pvalue"
   ]
  },
  {
   "cell_type": "markdown",
   "metadata": {
    "slideshow": {
     "slide_type": "slide"
    }
   },
   "source": [
    "# Effect Size problem"
   ]
  },
  {
   "cell_type": "code",
   "execution_count": 54,
   "metadata": {
    "collapsed": true,
    "slideshow": {
     "slide_type": "slide"
    }
   },
   "outputs": [],
   "source": [
    "n = 100000\n",
    "np.random.seed(0)    # set seed for the random numbers\n",
    "\n",
    "data = pd.DataFrame({'group': ['healthy1']*n + ['healthy2']*n,\n",
    "                     'H pylori': np.concatenate((np.random.normal(8.1, 2, n),\n",
    "                                                 np.random.normal(8, 2, n)))})\n",
    "t, pvalue = ttest_ind(data.loc[data.group=='healthy1', 'H pylori'],\n",
    "                      data.loc[data.group=='healthy2', 'H pylori'])"
   ]
  },
  {
   "cell_type": "code",
   "execution_count": 15,
   "metadata": {
    "collapsed": false
   },
   "outputs": [
    {
     "data": {
      "text/plain": [
       "10.4146543383201"
      ]
     },
     "execution_count": 15,
     "metadata": {},
     "output_type": "execute_result"
    }
   ],
   "source": [
    "t"
   ]
  },
  {
   "cell_type": "code",
   "execution_count": 16,
   "metadata": {
    "collapsed": false
   },
   "outputs": [
    {
     "data": {
      "text/plain": [
       "2.1577457502909888e-25"
      ]
     },
     "execution_count": 16,
     "metadata": {},
     "output_type": "execute_result"
    }
   ],
   "source": [
    "pvalue"
   ]
  },
  {
   "cell_type": "code",
   "execution_count": 17,
   "metadata": {
    "collapsed": false
   },
   "outputs": [
    {
     "data": {
      "text/plain": [
       "<matplotlib.legend.Legend at 0x10cc76c50>"
      ]
     },
     "execution_count": 17,
     "metadata": {},
     "output_type": "execute_result"
    },
    {
     "data": {
      "image/png": "[encoded data removed]",
      "text/plain": [
       "<matplotlib.figure.Figure at 0x10ca0a160>"
      ]
     },
     "metadata": {},
     "output_type": "display_data"
    }
   ],
   "source": [
    "sns.distplot(data.loc[data.group=='healthy1', 'H pylori'],  # H pylori values for the sick group\n",
    "             label='healthy1', kde=False)\n",
    "sns.distplot(data.loc[data.group=='healthy2', 'H pylori'],  # H pylori values for the healthy group\n",
    "             label='healthy2', kde=False)\n",
    "plt.legend()"
   ]
  },
  {
   "cell_type": "code",
   "execution_count": 66,
   "metadata": {
    "collapsed": false
   },
   "outputs": [
    {
     "data": {
      "text/plain": [
       "array([ 51.16801431,  50.489662  ,  47.78184689,  51.0718733 ,\n",
       "        50.6418883 ,  50.19895205,  47.81829425,  49.5809913 ,\n",
       "        47.12739567,  48.97192978])"
      ]
     },
     "execution_count": 66,
     "metadata": {},
     "output_type": "execute_result"
    }
   ],
   "source": [
    "np.random.normal(50, 2, 10)"
   ]
  },
  {
   "cell_type": "code",
   "execution_count": 83,
   "metadata": {
    "collapsed": false
   },
   "outputs": [
    {
     "name": "stdout",
     "output_type": "stream",
     "text": [
      "pvalue 3.47871198237e-115\n"
     ]
    },
    {
     "data": {
      "text/plain": [
       "<matplotlib.legend.Legend at 0x1111cf518>"
      ]
     },
     "execution_count": 83,
     "metadata": {},
     "output_type": "execute_result"
    },
    {
     "data": {
      "image/png": "[encoded data removed]",
      "text/plain": [
       "<matplotlib.figure.Figure at 0x1111648d0>"
      ]
     },
     "metadata": {},
     "output_type": "display_data"
    }
   ],
   "source": [
    "# big effect size, small pvalues\n",
    "n_many = 700\n",
    "n_few = 300\n",
    "\n",
    "H1 = np.concatenate((np.random.normal(50, 20, size=n_many),\n",
    "                     np.random.normal(10, 20, size=n_few)))\n",
    "S1 = np.concatenate((np.random.normal(400, 20, size=n_many),\n",
    "                     np.random.normal(20, 20, size=n_few)))\n",
    "\n",
    "print('pvalue', mannwhitneyu(H1, S1).pvalue)\n",
    "sns.distplot(H1, label='healthy1', kde=False, bins=np.arange(0,450,10))\n",
    "sns.distplot(S1, label='sick1', kde=False, bins=np.arange(0,450,10))\n",
    "plt.legend()"
   ]
  },
  {
   "cell_type": "code",
   "execution_count": 84,
   "metadata": {
    "collapsed": false
   },
   "outputs": [
    {
     "name": "stdout",
     "output_type": "stream",
     "text": [
      "pvalue 4.36596450372e-225\n"
     ]
    },
    {
     "data": {
      "text/plain": [
       "<matplotlib.legend.Legend at 0x111439390>"
      ]
     },
     "execution_count": 84,
     "metadata": {},
     "output_type": "execute_result"
    },
    {
     "data": {
      "image/png": "[encoded data removed]",
      "text/plain": [
       "<matplotlib.figure.Figure at 0x1109b1d30>"
      ]
     },
     "metadata": {},
     "output_type": "display_data"
    }
   ],
   "source": [
    "# small effect size, big pvalues\n",
    "n_many = 500\n",
    "n_few = 200\n",
    "H2 = np.concatenate((np.random.normal(30, 2, n_many),\n",
    "                     np.random.normal(35, 2, n_few)))\n",
    "S2 = np.concatenate((np.random.normal(40, 2, n_many),\n",
    "                     np.random.normal(50, 2, n_few)))\n",
    "print('pvalue', mannwhitneyu(H2, S2).pvalue)\n",
    "\n",
    "sns.distplot(H2, label='healthy2', kde=False, bins=10)\n",
    "sns.distplot(S2, label='sick2', kde=False, bins=10)\n",
    "plt.legend()"
   ]
  },
  {
   "cell_type": "markdown",
   "metadata": {},
   "source": [
    "# Normality problem"
   ]
  },
  {
   "cell_type": "code",
   "execution_count": 18,
   "metadata": {
    "collapsed": false
   },
   "outputs": [],
   "source": [
    "np.random.seed(0)    # set seed for the random numbers\n",
    "data = pd.DataFrame({'group': ['sick']*100 + ['healthy']*100,\n",
    "                     'H pylori': np.concatenate((np.random.normal(8, 2, 100),\n",
    "                                                 np.random.exponential(7, 100)))})"
   ]
  },
  {
   "cell_type": "code",
   "execution_count": 19,
   "metadata": {
    "collapsed": false
   },
   "outputs": [
    {
     "data": {
      "text/plain": [
       "<matplotlib.legend.Legend at 0x10cacec88>"
      ]
     },
     "execution_count": 19,
     "metadata": {},
     "output_type": "execute_result"
    },
    {
     "data": {
      "image/png": "[encoded data removed]",
      "text/plain": [
       "<matplotlib.figure.Figure at 0x10dd5b080>"
      ]
     },
     "metadata": {},
     "output_type": "display_data"
    }
   ],
   "source": [
    "sns.distplot(data.loc[data.group=='sick', 'H pylori'],\n",
    "             label='sick', kde=False)\n",
    "sns.distplot(data.loc[data.group=='healthy', 'H pylori'], \n",
    "             label='healthy', kde=False, bins=40)\n",
    "plt.legend()"
   ]
  },
  {
   "cell_type": "code",
   "execution_count": 20,
   "metadata": {
    "collapsed": true
   },
   "outputs": [],
   "source": [
    "t, pvalue = ttest_ind(data.loc[data.group=='sick', 'H pylori'],\n",
    "                      data.loc[data.group=='healthy', 'H pylori'])"
   ]
  },
  {
   "cell_type": "code",
   "execution_count": 21,
   "metadata": {
    "collapsed": false
   },
   "outputs": [
    {
     "data": {
      "text/plain": [
       "1.7283048631832336"
      ]
     },
     "execution_count": 21,
     "metadata": {},
     "output_type": "execute_result"
    }
   ],
   "source": [
    "t"
   ]
  },
  {
   "cell_type": "code",
   "execution_count": 22,
   "metadata": {
    "collapsed": false
   },
   "outputs": [
    {
     "data": {
      "text/plain": [
       "0.085492566172262571"
      ]
     },
     "execution_count": 22,
     "metadata": {},
     "output_type": "execute_result"
    }
   ],
   "source": [
    "pvalue"
   ]
  },
  {
   "cell_type": "code",
   "execution_count": 23,
   "metadata": {
    "collapsed": true
   },
   "outputs": [],
   "source": [
    "u, pvalue = mannwhitneyu(data.loc[data.group=='sick', 'H pylori'],\n",
    "                         data.loc[data.group=='healthy', 'H pylori'])"
   ]
  },
  {
   "cell_type": "code",
   "execution_count": 24,
   "metadata": {
    "collapsed": false
   },
   "outputs": [
    {
     "data": {
      "text/plain": [
       "3142.0"
      ]
     },
     "execution_count": 24,
     "metadata": {},
     "output_type": "execute_result"
    }
   ],
   "source": [
    "u"
   ]
  },
  {
   "cell_type": "code",
   "execution_count": 25,
   "metadata": {
    "collapsed": false
   },
   "outputs": [
    {
     "data": {
      "text/plain": [
       "2.8315160121805506e-06"
      ]
     },
     "execution_count": 25,
     "metadata": {},
     "output_type": "execute_result"
    }
   ],
   "source": [
    "pvalue"
   ]
  },
  {
   "cell_type": "code",
   "execution_count": 62,
   "metadata": {
    "collapsed": true
   },
   "outputs": [],
   "source": [
    "def permutation_ttest(df, num_permutations=99):\n",
    "    ts = np.zeros(num_permutations)\n",
    "    t, pvalue = ttest_ind(df.loc[df.group=='sick', 'H pylori'],\n",
    "                          df.loc[df.group=='healthy', 'H pylori'])\n",
    "    for i in range(num_permutations):\n",
    "        df['group'] = np.random.permutation(df.group)\n",
    "        t_, pvalue = ttest_ind(df.loc[df.group=='sick', 'H pylori'],\n",
    "                               df.loc[df.group=='healthy', 'H pylori'])\n",
    "        ts[i] = t_\n",
    "    pvalue = (1 + (t >= ts).sum() )/ (num_permutations + 1)\n",
    "    return pvalue"
   ]
  },
  {
   "cell_type": "code",
   "execution_count": 63,
   "metadata": {
    "collapsed": false
   },
   "outputs": [
    {
     "data": {
      "text/plain": [
       "0.01"
      ]
     },
     "execution_count": 63,
     "metadata": {},
     "output_type": "execute_result"
    }
   ],
   "source": [
    "pvalue = permutation_ttest(data)\n",
    "pvalue"
   ]
  },
  {
   "cell_type": "markdown",
   "metadata": {},
   "source": [
    "# Multiple hypothesis testing problem"
   ]
  },
  {
   "cell_type": "code",
   "execution_count": 26,
   "metadata": {
    "collapsed": true
   },
   "outputs": [],
   "source": [
    "np.random.seed(0)    # set seed for the random numbers\n",
    "data = pd.DataFrame({'group': ['sick']*100 + ['healthy']*100,\n",
    "                     'H pylori': np.concatenate((np.random.normal(8, 2, 100),\n",
    "                                                 np.random.normal(5, 2, 100)))})"
   ]
  },
  {
   "cell_type": "code",
   "execution_count": 27,
   "metadata": {
    "collapsed": true
   },
   "outputs": [],
   "source": [
    "num_healthy = 100\n",
    "num_sick = 100\n",
    "num_samples = num_healthy + num_sick\n",
    "num_otus = 1000\n",
    "\n",
    "otu_ids = np.arange(num_otus)  # simulated OTU ids\n",
    "groups = pd.Series(['sick']*num_sick + ['healthy']*num_healthy)\n",
    "\n",
    "# randomly grab 200 values uniformly distributed between (0, 10) for each OTU\n",
    "random_data = pd.DataFrame({i: np.random.uniform(low=0.0, high=10.0, size=num_samples) for i in otu_ids})"
   ]
  },
  {
   "cell_type": "code",
   "execution_count": 28,
   "metadata": {
    "collapsed": false
   },
   "outputs": [],
   "source": [
    "stats = pd.DataFrame(index=otu_ids)\n",
    "for i in otu_ids:\n",
    "    t, pvalue = ttest_ind(random_data.loc[data.group=='sick', i],\n",
    "                          random_data.loc[data.group=='healthy', i])\n",
    "    stats.loc[i, 't'] = t\n",
    "    stats.loc[i, 'pvalue'] = pvalue"
   ]
  },
  {
   "cell_type": "code",
   "execution_count": 29,
   "metadata": {
    "collapsed": false
   },
   "outputs": [
    {
     "data": {
      "text/html": [
       "<div>\n",
       "<table border=\"1\" class=\"dataframe\">\n",
       "  <thead>\n",
       "    <tr style=\"text-align: right;\">\n",
       "      <th></th>\n",
       "      <th>t</th>\n",
       "      <th>pvalue</th>\n",
       "    </tr>\n",
       "  </thead>\n",
       "  <tbody>\n",
       "    <tr>\n",
       "      <th>240</th>\n",
       "      <td>3.494533</td>\n",
       "      <td>0.000586</td>\n",
       "    </tr>\n",
       "    <tr>\n",
       "      <th>986</th>\n",
       "      <td>3.160976</td>\n",
       "      <td>0.001819</td>\n",
       "    </tr>\n",
       "    <tr>\n",
       "      <th>63</th>\n",
       "      <td>2.821111</td>\n",
       "      <td>0.005273</td>\n",
       "    </tr>\n",
       "    <tr>\n",
       "      <th>278</th>\n",
       "      <td>2.766480</td>\n",
       "      <td>0.006203</td>\n",
       "    </tr>\n",
       "    <tr>\n",
       "      <th>457</th>\n",
       "      <td>2.741149</td>\n",
       "      <td>0.006683</td>\n",
       "    </tr>\n",
       "  </tbody>\n",
       "</table>\n",
       "</div>"
      ],
      "text/plain": [
       "            t    pvalue\n",
       "240  3.494533  0.000586\n",
       "986  3.160976  0.001819\n",
       "63   2.821111  0.005273\n",
       "278  2.766480  0.006203\n",
       "457  2.741149  0.006683"
      ]
     },
     "execution_count": 29,
     "metadata": {},
     "output_type": "execute_result"
    }
   ],
   "source": [
    "stats.sort_values(by='pvalue').head()"
   ]
  },
  {
   "cell_type": "markdown",
   "metadata": {},
   "source": [
    "Just by chance, there is a high chance that there is 1 OTU different between the 2 groups."
   ]
  },
  {
   "cell_type": "code",
   "execution_count": 30,
   "metadata": {
    "collapsed": false
   },
   "outputs": [
    {
     "data": {
      "text/html": [
       "<div>\n",
       "<table border=\"1\" class=\"dataframe\">\n",
       "  <thead>\n",
       "    <tr style=\"text-align: right;\">\n",
       "      <th></th>\n",
       "      <th>t</th>\n",
       "      <th>pvalue</th>\n",
       "      <th>corrected pvalue</th>\n",
       "    </tr>\n",
       "  </thead>\n",
       "  <tbody>\n",
       "    <tr>\n",
       "      <th>240</th>\n",
       "      <td>3.494533</td>\n",
       "      <td>0.000586</td>\n",
       "      <td>0.443493</td>\n",
       "    </tr>\n",
       "    <tr>\n",
       "      <th>986</th>\n",
       "      <td>3.160976</td>\n",
       "      <td>0.001819</td>\n",
       "      <td>0.837853</td>\n",
       "    </tr>\n",
       "    <tr>\n",
       "      <th>63</th>\n",
       "      <td>2.821111</td>\n",
       "      <td>0.005273</td>\n",
       "      <td>0.994890</td>\n",
       "    </tr>\n",
       "    <tr>\n",
       "      <th>278</th>\n",
       "      <td>2.766480</td>\n",
       "      <td>0.006203</td>\n",
       "      <td>0.997978</td>\n",
       "    </tr>\n",
       "    <tr>\n",
       "      <th>457</th>\n",
       "      <td>2.741149</td>\n",
       "      <td>0.006683</td>\n",
       "      <td>0.998742</td>\n",
       "    </tr>\n",
       "  </tbody>\n",
       "</table>\n",
       "</div>"
      ],
      "text/plain": [
       "            t    pvalue  corrected pvalue\n",
       "240  3.494533  0.000586          0.443493\n",
       "986  3.160976  0.001819          0.837853\n",
       "63   2.821111  0.005273          0.994890\n",
       "278  2.766480  0.006203          0.997978\n",
       "457  2.741149  0.006683          0.998742"
      ]
     },
     "execution_count": 30,
     "metadata": {},
     "output_type": "execute_result"
    }
   ],
   "source": [
    "reject, pvals, sidak, bonf = multipletests(stats.pvalue)\n",
    "stats['corrected pvalue'] = pvals\n",
    "stats.sort_values(by='pvalue').head()"
   ]
  },
  {
   "cell_type": "markdown",
   "metadata": {},
   "source": [
    "# Compositionality problem"
   ]
  },
  {
   "cell_type": "code",
   "execution_count": 31,
   "metadata": {
    "collapsed": false
   },
   "outputs": [],
   "source": [
    "num_healthy = 100\n",
    "num_sick = 100\n",
    "num_samples = num_healthy + num_sick\n",
    "num_otus = 1000\n",
    "data = pd.DataFrame({i: np.random.uniform(low=0.0, high=10.0, size=num_samples) for i in otu_ids})\n",
    "\n",
    "# Simulate a bloom.  OTU0 increases by a factor of 10 at each sample\n",
    "data.loc[:, 0] = np.arange(num_samples) * 10\n",
    "\n",
    "# normalize down to proportions.  See week1.sample.ipynb for further explanation.\n",
    "data = data.apply(lambda x : x/x.sum(), axis=1)"
   ]
  },
  {
   "cell_type": "code",
   "execution_count": 32,
   "metadata": {
    "collapsed": false
   },
   "outputs": [
    {
     "data": {
      "text/plain": [
       "<seaborn.axisgrid.FacetGrid at 0x10df4d4e0>"
      ]
     },
     "execution_count": 32,
     "metadata": {},
     "output_type": "execute_result"
    },
    {
     "data": {
      "image/png": "[encoded data removed]",
      "text/plain": [
       "<matplotlib.figure.Figure at 0x10df48940>"
      ]
     },
     "metadata": {},
     "output_type": "display_data"
    }
   ],
   "source": [
    "groups = pd.Series(['sick']*num_sick + ['healthy']*num_healthy)\n",
    "data['group'] = groups\n",
    "sns.factorplot(x='group', y=0, data=data, kind='violin')"
   ]
  },
  {
   "cell_type": "code",
   "execution_count": 33,
   "metadata": {
    "collapsed": false
   },
   "outputs": [],
   "source": [
    "stats = pd.DataFrame(index=otu_ids)\n",
    "for i in otu_ids:\n",
    "    t, pvalue = ttest_ind(data.loc[data.group=='sick', i],\n",
    "                          data.loc[data.group=='healthy', i])\n",
    "    stats.loc[i, 't'] = t\n",
    "    stats.loc[i, 'pvalue'] = pvalue\n",
    "\n",
    "# Multiple hypothesis tests\n",
    "reject, pvals, sidak, bonf = multipletests(stats.pvalue)\n",
    "stats['corrected pvalue'] = pvals"
   ]
  },
  {
   "cell_type": "code",
   "execution_count": 34,
   "metadata": {
    "collapsed": false
   },
   "outputs": [
    {
     "data": {
      "text/html": [
       "<div>\n",
       "<table border=\"1\" class=\"dataframe\">\n",
       "  <thead>\n",
       "    <tr style=\"text-align: right;\">\n",
       "      <th></th>\n",
       "      <th>t</th>\n",
       "      <th>pvalue</th>\n",
       "      <th>corrected pvalue</th>\n",
       "    </tr>\n",
       "  </thead>\n",
       "  <tbody>\n",
       "    <tr>\n",
       "      <th>0</th>\n",
       "      <td>-23.783951</td>\n",
       "      <td>6.015957e-60</td>\n",
       "      <td>0.000000</td>\n",
       "    </tr>\n",
       "    <tr>\n",
       "      <th>961</th>\n",
       "      <td>6.054930</td>\n",
       "      <td>6.936292e-09</td>\n",
       "      <td>0.000007</td>\n",
       "    </tr>\n",
       "    <tr>\n",
       "      <th>51</th>\n",
       "      <td>5.443586</td>\n",
       "      <td>1.534471e-07</td>\n",
       "      <td>0.000153</td>\n",
       "    </tr>\n",
       "    <tr>\n",
       "      <th>316</th>\n",
       "      <td>5.297452</td>\n",
       "      <td>3.112234e-07</td>\n",
       "      <td>0.000310</td>\n",
       "    </tr>\n",
       "    <tr>\n",
       "      <th>204</th>\n",
       "      <td>5.148588</td>\n",
       "      <td>6.308973e-07</td>\n",
       "      <td>0.000628</td>\n",
       "    </tr>\n",
       "  </tbody>\n",
       "</table>\n",
       "</div>"
      ],
      "text/plain": [
       "             t        pvalue  corrected pvalue\n",
       "0   -23.783951  6.015957e-60          0.000000\n",
       "961   6.054930  6.936292e-09          0.000007\n",
       "51    5.443586  1.534471e-07          0.000153\n",
       "316   5.297452  3.112234e-07          0.000310\n",
       "204   5.148588  6.308973e-07          0.000628"
      ]
     },
     "execution_count": 34,
     "metadata": {},
     "output_type": "execute_result"
    }
   ],
   "source": [
    "stats.sort_values(by='pvalue').head()    "
   ]
  },
  {
   "cell_type": "markdown",
   "metadata": {},
   "source": [
    "The main take away.  Every statistical test has its own set of assumptions. \n",
    "\n",
    "Other tests\n",
    "- ANOVA\n",
    "- Kruskal Wallis test\n",
    "- Kolmogorov Smirnov test\n",
    "- Permutation tests \n",
    "- Many many others"
   ]
  },
  {
   "cell_type": "code",
   "execution_count": null,
   "metadata": {
    "collapsed": true
   },
   "outputs": [],
   "source": []
  }
 ],
 "metadata": {
  "celltoolbar": "Slideshow",
  "kernelspec": {
   "display_name": "Python 3",
   "language": "python",
   "name": "python3"
  },
  "language_info": {
   "codemirror_mode": {
    "name": "ipython",
    "version": 3
   },
   "file_extension": ".py",
   "mimetype": "text/x-python",
   "name": "python",
   "nbconvert_exporter": "python",
   "pygments_lexer": "ipython3",
   "version": "3.5.1"
  }
 },
 "nbformat": 4,
 "nbformat_minor": 0
}
