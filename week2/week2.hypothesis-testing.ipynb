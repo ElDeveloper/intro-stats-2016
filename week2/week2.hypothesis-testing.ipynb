{
 "cells": [
  {
   "cell_type": "markdown",
   "metadata": {
    "slideshow": {
     "slide_type": "slide"
    }
   },
   "source": [
    "# Week 2 Hypothesis Testing\n",
    "\n"
   ]
  },
  {
   "cell_type": "code",
   "execution_count": 1,
   "metadata": {
    "collapsed": false,
    "slideshow": {
     "slide_type": "skip"
    }
   },
   "outputs": [
    {
     "data": {
      "text/plain": [
       "{'start_slideshow_at': 'selected', 'theme': 'serif', 'transition': 'fade'}"
      ]
     },
     "execution_count": 1,
     "metadata": {},
     "output_type": "execute_result"
    }
   ],
   "source": [
    "\n",
    "# setup the presentation settings\n",
    "from notebook.services.config import ConfigManager\n",
    "cm = ConfigManager()\n",
    "cm.update('livereveal', {\n",
    "              'theme': 'serif',\n",
    "              'start_slideshow_at': 'selected',\n",
    "              'transition': 'fade'\n",
    "})"
   ]
  },
  {
   "cell_type": "markdown",
   "metadata": {
    "slideshow": {
     "slide_type": "slide"
    }
   },
   "source": [
    "# Science and Hypothesis\n",
    "\n",
    "- Last time we talked about probability.\n",
    "- But we are not gamblers. We are SCIENTISTS. We want to learn about the world we live in...\n",
    "- The scientific process:\n",
    "  - Hypothesize something about the world\n",
    "  - devise an experiment that can falsify it\n",
    "  -  and see if the hypothesis still holds\n",
    "\n",
    "So here comes hypothesis testing..."
   ]
  },
  {
   "cell_type": "markdown",
   "metadata": {
    "slideshow": {
     "slide_type": "slide"
    }
   },
   "source": [
    "# Science and Hypothesis (continued)\n",
    "\n",
    "Sometimes life is easy:\n",
    "-  Hypothesis: all bacteria are good\n",
    "-  But then we see pathogenic e. coli\n",
    "-  So it falsifies our hypothesis. Back to the drawing board...\n",
    "\n",
    "But usually it's not that easy to falsify an hypthesis:\n",
    "- Hypothesis: sick people have on average more e. coli than healthy people\n",
    "- and we test 10 sick and 10 healthy people and see sick people have more e. coli\n",
    "- what does it mean about our hypothesis? Is 10 people enough? 100? 100000?\n",
    "\n",
    "We need the power of STATISTICS!"
   ]
  },
  {
   "cell_type": "markdown",
   "metadata": {
    "slideshow": {
     "slide_type": "slide"
    }
   },
   "source": [
    "# Bayesian Approach\n",
    "\n",
    "__Bayesian__: Given an observation X, what are the probabilities of the different hypothesis? Or sometimes, given a set of hypothesis, is there one which is one more likely than the other given the observation?\n",
    "\n",
    "For each hypothesis $H$:\n",
    "\n",
    "$P(H|X)=P(X|H) \\cdot \\frac{P(H)}{P(X)}$\n",
    "\n",
    "And if we just want to measure which hypothesis ($H_1$ or $H_2$) is more likely, $P(X)$ cancels out and we get:\n",
    "\n",
    "$\\frac{P(H_1|X)}{P(H_2|X)}=\\frac{P(H_1) \\cdot P(X|H_1)}{P(H_2) \\cdot P(X|H_2)}$\n",
    "\n",
    "__The good thing:__ it is mathematically sound\n",
    "\n",
    "__The bad thing:__ it is complicated"
   ]
  },
  {
   "cell_type": "markdown",
   "metadata": {
    "slideshow": {
     "slide_type": "slide"
    }
   },
   "source": [
    "# Frequentist Approach\n",
    "\n",
    "__Frequentist__: what is the probability of getting observation X under the null hypothesis $H_0$? If it is very low, we assume it is incorrect.\n",
    "\n",
    "__Example__: Say we have a coin and we want to test if it is fair or not.\n",
    "\n",
    "Assume we flipped the coin 20 times and observed 19 Heads. We would suspect that the coin has a bias towards giving Head vs. Tail.\n",
    "\n",
    "__The good thing:__ it's simple\n",
    "\n",
    "__The bad thing:__ shaky ground\n",
    "\n",
    "(We will focus on Frequentist approach for the rest of this talk)"
   ]
  },
  {
   "cell_type": "markdown",
   "metadata": {
    "slideshow": {
     "slide_type": "slide"
    }
   },
   "source": [
    "# Frequentist Testing process - Example continued\n",
    "\n",
    "So what is going on?\n",
    "\n",
    "In our mind, there are two probable options, one is that the coin is fair ($P(H)=P(T)=0.5$) and the other is that the coin has some bias towards one side vs. the other (we don't know what bias exactly or even to what side).\n",
    "\n",
    "We can calculate the probabilities of the fair coin (exact null hypothesis).\n",
    "The probability of getting the specific 20 results sequence that we got (or any other) under the fair coin hypothesis is $2^{-20}$.\n",
    "\n",
    "This doesn't help us..."
   ]
  },
  {
   "cell_type": "markdown",
   "metadata": {
    "slideshow": {
     "slide_type": "fragment"
    }
   },
   "source": [
    "But we have some notion of an unfair coin hypothesis, and it means one side will have a higher probability than the other. And the bigger the unfairness, the bigger the difference between H and T. So we can look for example at the absolute value of the difference between heads and tails, and ask what is the probability of getting a difference of 18 or more (BTW it is <0.0001).\n"
   ]
  },
  {
   "cell_type": "markdown",
   "metadata": {
    "slideshow": {
     "slide_type": "fragment"
    }
   },
   "source": [
    "Note that while we explicitly use the null hypothesis, we also needed to implicitly use the alternative model to say what results are more unfair than others...\n"
   ]
  },
  {
   "cell_type": "markdown",
   "metadata": {
    "slideshow": {
     "slide_type": "slide"
    }
   },
   "source": [
    "# Frequentist Testing process - the ground is shaky\n",
    "\n",
    "Say we flip a coin 29 times and we get:\n",
    "\n",
    "HHTHHHHHHHTTHHHHHTHTHTHHTHTTH\n",
    "\n",
    "looks like a relatively fair coin,\n"
   ]
  },
  {
   "cell_type": "markdown",
   "metadata": {
    "slideshow": {
     "slide_type": "fragment"
    }
   },
   "source": [
    "but if we translate to morse code (-=H, .=T)\n",
    "\n",
    "--. --- --- -.. -- --- .-. -. .. -. --.\n",
    "\n",
    "which means:\n",
    "Good Morning!"
   ]
  },
  {
   "cell_type": "markdown",
   "metadata": {
    "slideshow": {
     "slide_type": "fragment"
    }
   },
   "source": [
    "So is it random? what is the probability of getting this by chance?\n",
    "\n",
    "The probability of any single set of n coin flips is $2^{-n}$, but that doesn't help us.\n",
    "\n",
    "We need to define what results are interesting (give an order to the results).\n",
    "\n",
    "What about morse code for German? Where do we stop?\n",
    "\n",
    "So we need some idea of the non-null hypothesis"
   ]
  },
  {
   "cell_type": "markdown",
   "metadata": {
    "slideshow": {
     "slide_type": "slide"
    }
   },
   "source": [
    "# Sick vs Healthy simulation\n",
    "\n",
    "Let's construct a simple example\n",
    "- There are 200 people being surveyed\n",
    "  - 100 of these people are healthy and the rest are sick\n",
    "- Concentrations of H pylori are measured\n",
    "\n",
    "- Is there a difference between sick and healthy people based on H pylori concentration?\n"
   ]
  },
  {
   "cell_type": "code",
   "execution_count": 2,
   "metadata": {
    "collapsed": false,
    "slideshow": {
     "slide_type": "skip"
    }
   },
   "outputs": [],
   "source": [
    "import warnings   # running fast and loose\n",
    "warnings.simplefilter(\"ignore\") \n",
    "\n",
    "import numpy as np\n",
    "import pandas as pd\n",
    "import seaborn as sns\n",
    "import matplotlib.pyplot as plt\n",
    "from scipy.stats import ttest_ind, mannwhitneyu, rankdata\n",
    "from statsmodels.sandbox.stats.multicomp import multipletests\n",
    "from numpy.random import (normal, shuffle, permutation, \n",
    "                          exponential, uniform)\n",
    "\n",
    "%matplotlib inline"
   ]
  },
  {
   "cell_type": "code",
   "execution_count": 3,
   "metadata": {
    "collapsed": true,
    "slideshow": {
     "slide_type": "skip"
    }
   },
   "outputs": [],
   "source": [
    "np.random.seed(0)    # set seed for the random numbers"
   ]
  },
  {
   "cell_type": "code",
   "execution_count": 4,
   "metadata": {
    "collapsed": false,
    "slideshow": {
     "slide_type": "slide"
    }
   },
   "outputs": [],
   "source": [
    "sick_mean    = 8\n",
    "healthy_mean = 5\n",
    "variance     = 2\n",
    "num_sick     = 100\n",
    "num_healthy  = 100\n",
    "sick_data    = normal(sick_mean, variance, num_sick)\n",
    "healthy_data = normal(healthy_mean, variance, num_healthy)\n",
    "data = pd.DataFrame({'group': ['sick']*num_sick + ['healthy']*num_healthy,\n",
    "                     'H pylori': np.concatenate((sick_data, healthy_data))})"
   ]
  },
  {
   "cell_type": "code",
   "execution_count": 5,
   "metadata": {
    "collapsed": false,
    "slideshow": {
     "slide_type": "fragment"
    }
   },
   "outputs": [
    {
     "data": {
      "text/html": [
       "<div>\n",
       "<table border=\"1\" class=\"dataframe\">\n",
       "  <thead>\n",
       "    <tr style=\"text-align: right;\">\n",
       "      <th></th>\n",
       "      <th>H pylori</th>\n",
       "      <th>group</th>\n",
       "    </tr>\n",
       "  </thead>\n",
       "  <tbody>\n",
       "    <tr>\n",
       "      <th>0</th>\n",
       "      <td>11.528105</td>\n",
       "      <td>sick</td>\n",
       "    </tr>\n",
       "    <tr>\n",
       "      <th>1</th>\n",
       "      <td>8.800314</td>\n",
       "      <td>sick</td>\n",
       "    </tr>\n",
       "    <tr>\n",
       "      <th>2</th>\n",
       "      <td>9.957476</td>\n",
       "      <td>sick</td>\n",
       "    </tr>\n",
       "    <tr>\n",
       "      <th>3</th>\n",
       "      <td>12.481786</td>\n",
       "      <td>sick</td>\n",
       "    </tr>\n",
       "  </tbody>\n",
       "</table>\n",
       "</div>"
      ],
      "text/plain": [
       "    H pylori group\n",
       "0  11.528105  sick\n",
       "1   8.800314  sick\n",
       "2   9.957476  sick\n",
       "3  12.481786  sick"
      ]
     },
     "execution_count": 5,
     "metadata": {},
     "output_type": "execute_result"
    }
   ],
   "source": [
    "data.head(n=4)"
   ]
  },
  {
   "cell_type": "code",
   "execution_count": 6,
   "metadata": {
    "collapsed": false,
    "slideshow": {
     "slide_type": "fragment"
    }
   },
   "outputs": [
    {
     "data": {
      "text/html": [
       "<div>\n",
       "<table border=\"1\" class=\"dataframe\">\n",
       "  <thead>\n",
       "    <tr style=\"text-align: right;\">\n",
       "      <th></th>\n",
       "      <th>H pylori</th>\n",
       "      <th>group</th>\n",
       "    </tr>\n",
       "  </thead>\n",
       "  <tbody>\n",
       "    <tr>\n",
       "      <th>196</th>\n",
       "      <td>6.543581</td>\n",
       "      <td>healthy</td>\n",
       "    </tr>\n",
       "    <tr>\n",
       "      <th>197</th>\n",
       "      <td>6.647008</td>\n",
       "      <td>healthy</td>\n",
       "    </tr>\n",
       "    <tr>\n",
       "      <th>198</th>\n",
       "      <td>9.326472</td>\n",
       "      <td>healthy</td>\n",
       "    </tr>\n",
       "    <tr>\n",
       "      <th>199</th>\n",
       "      <td>7.673056</td>\n",
       "      <td>healthy</td>\n",
       "    </tr>\n",
       "  </tbody>\n",
       "</table>\n",
       "</div>"
      ],
      "text/plain": [
       "     H pylori    group\n",
       "196  6.543581  healthy\n",
       "197  6.647008  healthy\n",
       "198  9.326472  healthy\n",
       "199  7.673056  healthy"
      ]
     },
     "execution_count": 6,
     "metadata": {},
     "output_type": "execute_result"
    }
   ],
   "source": [
    "data.tail(n=4)"
   ]
  },
  {
   "cell_type": "code",
   "execution_count": 7,
   "metadata": {
    "collapsed": false,
    "slideshow": {
     "slide_type": "slide"
    }
   },
   "outputs": [
    {
     "data": {
      "text/plain": [
       "<matplotlib.legend.Legend at 0x10cae85f8>"
      ]
     },
     "execution_count": 7,
     "metadata": {},
     "output_type": "execute_result"
    },
    {
     "data": {
      "image/png": "[encoded data removed]",
      "text/plain": [
       "<matplotlib.figure.Figure at 0x10cae84a8>"
      ]
     },
     "metadata": {},
     "output_type": "display_data"
    }
   ],
   "source": [
    "# Plot H pylori distribution for the sick group\n",
    "sns.distplot(data.loc[data.group=='sick', 'H pylori'],     \n",
    "             label='sick', kde=False, bins=10)\n",
    "# Plot H pylori distribution for the healthy group\n",
    "sns.distplot(data.loc[data.group=='healthy', 'H pylori'],\n",
    "             label='healthy', kde=False, bins=10)\n",
    "plt.legend()"
   ]
  },
  {
   "cell_type": "markdown",
   "metadata": {
    "slideshow": {
     "slide_type": "fragment"
    }
   },
   "source": [
    "Our hypothesis is that the sick and healthy distributions have different means.\n",
    "\n",
    "More precisely:\n",
    "\n",
    "$H_a: \\mu_H \\neq \\mu_S$\n",
    "\n",
    "(H = Healthy, S = Sick)"
   ]
  },
  {
   "cell_type": "markdown",
   "metadata": {
    "slideshow": {
     "slide_type": "fragment"
    }
   },
   "source": [
    "From our hypothese $H_a$, we can generate the opposite null hypothesis $H_0$, which is that the sick and healthy have the same means:\n",
    "\n",
    "$H_0: \\mu_H= \\mu_S$\n",
    "\n",
    "And now we can calculate what is the probability (p-value) of getting such or more extreme results under the null hypothesis\n"
   ]
  },
  {
   "cell_type": "markdown",
   "metadata": {
    "slideshow": {
     "slide_type": "slide"
    }
   },
   "source": [
    "# What's the outcome\n",
    "\n",
    "\n",
    "we get a p-value.\n",
    "\n",
    "what does it mean? \n",
    "\n",
    "The p-value is the probability of getting such a result or more extreme under the null hypothesis ($H_0$). If it is very low, we would like to __reject__ the null hypothesis (say it is incorrect), and therefore the alternative hypothesis $H_a$ is correct\n"
   ]
  },
  {
   "cell_type": "markdown",
   "metadata": {
    "slideshow": {
     "slide_type": "fragment"
    }
   },
   "source": [
    "Note that a (relatively) high p-value does not indicate that the null hypothesis is true. just that we cannot rule it out (i.e. one coin toss). Especially since our $H_a$ model is not well defined.\n"
   ]
  },
  {
   "cell_type": "markdown",
   "metadata": {
    "slideshow": {
     "slide_type": "fragment"
    }
   },
   "source": [
    "Another question that comes to mind is what cutoff should we take?\n",
    "\n",
    "Below what p-value can we say the null hypothesis is incorrect?\n",
    "\n",
    "And the answer is:"
   ]
  },
  {
   "cell_type": "markdown",
   "metadata": {
    "slideshow": {
     "slide_type": "fragment"
    }
   },
   "source": [
    "0.05! \n",
    "\n",
    "(the exact number is 0.042)"
   ]
  },
  {
   "cell_type": "markdown",
   "metadata": {
    "slideshow": {
     "slide_type": "slide"
    }
   },
   "source": [
    "# False positive and false negative errors\n",
    "\n",
    "__False positive__ (type 1 error) - we reject the null hypothesis when in reality it is correct\n",
    "\n",
    "$\\alpha = P(reject\\; H_0\\; |\\; H_0\\; is\\; True)$\n",
    "\n",
    "__False negative__ (type 2 error) - we don't reject the null hypothesis when in reality it is incorrect\n",
    "\n",
    "$\\beta = P(don't\\; reject\\; H_0\\; |\\; H_a\\; is\\; True)$\n"
   ]
  },
  {
   "cell_type": "markdown",
   "metadata": {
    "slideshow": {
     "slide_type": "fragment"
    }
   },
   "source": [
    "<img src=\"files/type-i-and-type-ii-errors.jpg\" style=\"height: 400px;\">"
   ]
  },
  {
   "cell_type": "markdown",
   "metadata": {
    "slideshow": {
     "slide_type": "slide"
    }
   },
   "source": [
    "# Some hypothesis selection methods\n",
    "__If we don't want to have any false positives:__\n"
   ]
  },
  {
   "cell_type": "markdown",
   "metadata": {
    "slideshow": {
     "slide_type": "fragment"
    }
   },
   "source": [
    "Always accept $H_0$  \n",
    "\n",
    "$\\alpha=0$ -> No Type I errors\n"
   ]
  },
  {
   "cell_type": "markdown",
   "metadata": {
    "slideshow": {
     "slide_type": "fragment"
    }
   },
   "source": [
    "__If we don't want to make any false negatives:__\n"
   ]
  },
  {
   "cell_type": "markdown",
   "metadata": {
    "slideshow": {
     "slide_type": "fragment"
    }
   },
   "source": [
    "Always reject $H_0$  \n",
    "\n",
    "$\\beta=0$ -> No Type II errors\n"
   ]
  },
  {
   "cell_type": "markdown",
   "metadata": {
    "slideshow": {
     "slide_type": "fragment"
    }
   },
   "source": [
    "__The frequentist approach:__\n",
    "    \n",
    "controls the Type I error, but offers little control over Type II error"
   ]
  },
  {
   "cell_type": "markdown",
   "metadata": {
    "slideshow": {
     "slide_type": "slide"
    }
   },
   "source": [
    "# Sick vs healthy example (continued)\n",
    "\n",
    "$H_a: \\mu_H \\neq \\mu_S$  The means between sick and healthy are different\n",
    "\n",
    "$H_0: \\mu_H= \\mu_S$ The means are the same\n",
    "\n",
    "p-value = the probability we acknowledge that sick and healthy are different given that they are the same\n",
    "\n",
    "We will use the [t-test](https://en.wikipedia.org/wiki/Student%27s_t-test) to estimate this probability\n",
    "    "
   ]
  },
  {
   "cell_type": "code",
   "execution_count": 8,
   "metadata": {
    "collapsed": false,
    "slideshow": {
     "slide_type": "fragment"
    }
   },
   "outputs": [
    {
     "data": {
      "text/plain": [
       "<matplotlib.legend.Legend at 0x10cae80f0>"
      ]
     },
     "execution_count": 8,
     "metadata": {},
     "output_type": "execute_result"
    },
    {
     "data": {
      "image/png": "[encoded data removed]",
      "text/plain": [
       "<matplotlib.figure.Figure at 0x10cae8080>"
      ]
     },
     "metadata": {},
     "output_type": "display_data"
    }
   ],
   "source": [
    "# Plot H pylori distribution for the sick group\n",
    "sns.distplot(data.loc[data.group=='sick', 'H pylori'],     \n",
    "             label='sick', kde=False, bins=10)\n",
    "# Plot H pylori distribution for the healthy group\n",
    "sns.distplot(data.loc[data.group=='healthy', 'H pylori'],\n",
    "             label='healthy', kde=False, bins=10)\n",
    "plt.legend()"
   ]
  },
  {
   "cell_type": "code",
   "execution_count": 9,
   "metadata": {
    "collapsed": true,
    "slideshow": {
     "slide_type": "fragment"
    }
   },
   "outputs": [],
   "source": [
    "t, pvalue = ttest_ind(data.loc[data.group=='sick', 'H pylori'],\n",
    "                      data.loc[data.group=='healthy', 'H pylori'])"
   ]
  },
  {
   "cell_type": "code",
   "execution_count": 10,
   "metadata": {
    "collapsed": false,
    "slideshow": {
     "slide_type": "fragment"
    }
   },
   "outputs": [
    {
     "data": {
      "text/plain": [
       "10.179745677305018"
      ]
     },
     "execution_count": 10,
     "metadata": {},
     "output_type": "execute_result"
    }
   ],
   "source": [
    "t"
   ]
  },
  {
   "cell_type": "code",
   "execution_count": 11,
   "metadata": {
    "collapsed": false,
    "slideshow": {
     "slide_type": "fragment"
    }
   },
   "outputs": [
    {
     "data": {
      "text/plain": [
       "7.6431617406052428e-20"
      ]
     },
     "execution_count": 11,
     "metadata": {},
     "output_type": "execute_result"
    }
   ],
   "source": [
    "pvalue"
   ]
  },
  {
   "cell_type": "markdown",
   "metadata": {
    "slideshow": {
     "slide_type": "slide"
    }
   },
   "source": [
    "# Mann-Whitney U-test\n",
    "A non-parametric test. Meaning the distribution of the data does not matter.\n",
    "\n",
    "__The good stuff:__ We can use it on whatever data we have (even microbiome) and the false positive error rate is guaranteed to be controlled by the p-value.\n",
    "\n",
    "__The bad stuff:__ It has less power than the parametric tests (i.e. t-test)\n",
    "\n",
    "See [here](https://en.wikipedia.org/wiki/Mann%E2%80%93Whitney_U_test) for more details."
   ]
  },
  {
   "cell_type": "code",
   "execution_count": 12,
   "metadata": {
    "collapsed": true,
    "slideshow": {
     "slide_type": "fragment"
    }
   },
   "outputs": [],
   "source": [
    "u, pvalue = mannwhitneyu(data.loc[data.group=='sick', 'H pylori'],\n",
    "                         data.loc[data.group=='healthy', 'H pylori'])"
   ]
  },
  {
   "cell_type": "code",
   "execution_count": 13,
   "metadata": {
    "collapsed": false,
    "slideshow": {
     "slide_type": "fragment"
    }
   },
   "outputs": [
    {
     "data": {
      "text/plain": [
       "1623.0"
      ]
     },
     "execution_count": 13,
     "metadata": {},
     "output_type": "execute_result"
    }
   ],
   "source": [
    "u"
   ]
  },
  {
   "cell_type": "code",
   "execution_count": 14,
   "metadata": {
    "collapsed": false,
    "slideshow": {
     "slide_type": "fragment"
    }
   },
   "outputs": [
    {
     "data": {
      "text/plain": [
       "7.9129312462118361e-17"
      ]
     },
     "execution_count": 14,
     "metadata": {},
     "output_type": "execute_result"
    }
   ],
   "source": [
    "pvalue"
   ]
  },
  {
   "cell_type": "markdown",
   "metadata": {
    "slideshow": {
     "slide_type": "slide"
    }
   },
   "source": [
    "# Permutation Test\n",
    "We select whatever measure we want on our data and calculate it.\n",
    "\n",
    "Then we randomly permute the labels of our samples lots of times, and for each permutation calculate the measure.\n",
    "(This corresponds to the measure under the null hypothesis)\n",
    "\n",
    "By looking at the fraction of times we got such an extreme measure (as in our real data or bigger) in the permuted data, we can calculate the p-value\n",
    "\n",
    "__The good stuff:__ Can do it on whatever measure we want. Don't have any assumptions (except independence between samples).\n",
    "\n",
    "__The bad stuff:__ less power (non-parametric), can take a lot of time to calculate the permutations."
   ]
  },
  {
   "cell_type": "code",
   "execution_count": 15,
   "metadata": {
    "collapsed": true,
    "slideshow": {
     "slide_type": "fragment"
    }
   },
   "outputs": [],
   "source": [
    "def permutation_test(df1, num_permutations=999):\n",
    "    # calculate a permutation test based on the t-test statistic\n",
    "    df=df1.copy()\n",
    "    ts = np.zeros(num_permutations)\n",
    "    t,p = ttest_ind(df.loc[df.group=='sick', 'H pylori'],\n",
    "                          df.loc[df.group=='healthy', 'H pylori'])\n",
    "    for i in range(num_permutations):\n",
    "        df['group'] = np.random.permutation(df.group)\n",
    "        t_,p = ttest_ind(df.loc[df.group=='sick', 'H pylori'],\n",
    "                               df.loc[df.group=='healthy', 'H pylori'])\n",
    "        ts[i] = np.abs(t_)\n",
    "    pvalue = (1 + (ts >= t).sum() )/ (num_permutations + 1)\n",
    "    return t,ts,pvalue"
   ]
  },
  {
   "cell_type": "code",
   "execution_count": 16,
   "metadata": {
    "collapsed": false,
    "slideshow": {
     "slide_type": "fragment"
    }
   },
   "outputs": [],
   "source": [
    "realstat,randomstats,pvalue = permutation_test(data)"
   ]
  },
  {
   "cell_type": "code",
   "execution_count": 17,
   "metadata": {
    "collapsed": false,
    "slideshow": {
     "slide_type": "fragment"
    }
   },
   "outputs": [
    {
     "data": {
      "text/plain": [
       "10.179745677305018"
      ]
     },
     "execution_count": 17,
     "metadata": {},
     "output_type": "execute_result"
    }
   ],
   "source": [
    "t"
   ]
  },
  {
   "cell_type": "code",
   "execution_count": 18,
   "metadata": {
    "collapsed": false,
    "slideshow": {
     "slide_type": "fragment"
    }
   },
   "outputs": [
    {
     "data": {
      "text/plain": [
       "array([ 0.62898217,  0.86784998,  0.82505093,  0.16481799,  0.5310986 ,\n",
       "        0.57711571,  1.03243389,  1.1203099 ,  0.24558832,  0.56398787])"
      ]
     },
     "execution_count": 18,
     "metadata": {},
     "output_type": "execute_result"
    }
   ],
   "source": [
    "randomstats[:10]"
   ]
  },
  {
   "cell_type": "code",
   "execution_count": 19,
   "metadata": {
    "collapsed": false,
    "slideshow": {
     "slide_type": "fragment"
    }
   },
   "outputs": [
    {
     "data": {
      "text/plain": [
       "0.001"
      ]
     },
     "execution_count": 19,
     "metadata": {},
     "output_type": "execute_result"
    }
   ],
   "source": [
    "pvalue"
   ]
  },
  {
   "cell_type": "markdown",
   "metadata": {
    "slideshow": {
     "slide_type": "slide"
    }
   },
   "source": [
    "# Important message\n",
    "Note that for most tests, we assume __independece between the samples__ (for the null hypothesis).\n",
    "\n",
    "If samples are not independent, special care must be taken (even when using permutation based tests)\n",
    "\n",
    "## Example 1\n",
    "We flip a coin and replicate the result 20 times. We observe 20 heads. What is the probability that the coin is fair?\n",
    "\n",
    "## Example 2\n",
    "In a microbiome experiment, we have a treatment group and a control group (each 10 individuals). at time 0 we give the treatment group some treatment, and then we take samples from both groups every day for a month. We want to see what bacteria change.\n",
    "\n",
    "Even if we assume the effect of the treatment is immediate and constant, we cannot just compare the means of the treatment and control group!\n"
   ]
  },
  {
   "cell_type": "markdown",
   "metadata": {
    "slideshow": {
     "slide_type": "slide"
    }
   },
   "source": [
    "# Effect size and p-values\n",
    "While we need p-values to be signifcant, once they reach our desired threshold, the exact p-value is not the important thing. This is because:\n",
    "\n",
    "1. What we care about it the biological effect. We can have a 0.1% difference in some bacteria level between healthy and sick which is very significant, but a 0.1% difference is not really important...\n",
    "2. p-values are very sensitive and don't repeat very well, so their order can be random.\n",
    "3. The p-value depends on the number of samples. If we had infinite samples, probably all bacteria would be significantly different between sick and healthy, but this does not mean they are interesting.\n",
    "\n",
    "So instead of looking at p-values, we should look at the biologal effect size (such as the difference or ration between the sick and healthy).\n",
    "\n",
    "The p-value just assures us what we are seeing is not due to chance."
   ]
  },
  {
   "cell_type": "markdown",
   "metadata": {
    "slideshow": {
     "slide_type": "slide"
    }
   },
   "source": [
    "# Effect size example"
   ]
  },
  {
   "cell_type": "code",
   "execution_count": 20,
   "metadata": {
    "collapsed": true,
    "slideshow": {
     "slide_type": "skip"
    }
   },
   "outputs": [],
   "source": [
    "np.random.seed(0)    # set seed for the random numbers"
   ]
  },
  {
   "cell_type": "code",
   "execution_count": 23,
   "metadata": {
    "collapsed": false,
    "slideshow": {
     "slide_type": "-"
    }
   },
   "outputs": [
    {
     "data": {
      "text/plain": [
       "<matplotlib.legend.Legend at 0x10cdc41d0>"
      ]
     },
     "execution_count": 23,
     "metadata": {},
     "output_type": "execute_result"
    },
    {
     "data": {
      "image/png": "[encoded data removed]",
      "text/plain": [
       "<matplotlib.figure.Figure at 0x10cdc4160>"
      ]
     },
     "metadata": {},
     "output_type": "display_data"
    }
   ],
   "source": [
    "n = 100000\n",
    "data = pd.DataFrame({'group': ['healthy1']*n + ['healthy2']*n,\n",
    "                     'H pylori': np.concatenate((normal(8.1, 2, n),\n",
    "                                                 normal(8, 2, n)))})\n",
    "\n",
    "sns.distplot(data.loc[data.group=='healthy1', 'H pylori'],  # H pylori values for the sick group\n",
    "             label='healthy1', kde=False)\n",
    "sns.distplot(data.loc[data.group=='healthy2', 'H pylori'],  # H pylori values for the healthy group\n",
    "             label='healthy2', kde=False)\n",
    "plt.legend()"
   ]
  },
  {
   "cell_type": "code",
   "execution_count": null,
   "metadata": {
    "collapsed": true,
    "slideshow": {
     "slide_type": "fragment"
    }
   },
   "outputs": [],
   "source": [
    "t, pvalue = ttest_ind(data.loc[data.group=='healthy1', 'H pylori'],\n",
    "                      data.loc[data.group=='healthy2', 'H pylori'])"
   ]
  },
  {
   "cell_type": "code",
   "execution_count": 21,
   "metadata": {
    "collapsed": false,
    "slideshow": {
     "slide_type": "fragment"
    }
   },
   "outputs": [
    {
     "data": {
      "text/plain": [
       "10.4146543383201"
      ]
     },
     "execution_count": 21,
     "metadata": {},
     "output_type": "execute_result"
    }
   ],
   "source": [
    "t"
   ]
  },
  {
   "cell_type": "code",
   "execution_count": 22,
   "metadata": {
    "collapsed": false,
    "slideshow": {
     "slide_type": "fragment"
    }
   },
   "outputs": [
    {
     "data": {
      "text/plain": [
       "2.1577457502909888e-25"
      ]
     },
     "execution_count": 22,
     "metadata": {},
     "output_type": "execute_result"
    }
   ],
   "source": [
    "pvalue"
   ]
  },
  {
   "cell_type": "markdown",
   "metadata": {
    "slideshow": {
     "slide_type": "slide"
    }
   },
   "source": [
    "# Effect size and power - another example"
   ]
  },
  {
   "cell_type": "code",
   "execution_count": 24,
   "metadata": {
    "collapsed": false,
    "slideshow": {
     "slide_type": "-"
    }
   },
   "outputs": [
    {
     "name": "stdout",
     "output_type": "stream",
     "text": [
      "pvalue 5.38869725701e-19\n"
     ]
    },
    {
     "data": {
      "text/plain": [
       "<matplotlib.legend.Legend at 0x10df514a8>"
      ]
     },
     "execution_count": 24,
     "metadata": {},
     "output_type": "execute_result"
    },
    {
     "data": {
      "image/png": "[encoded data removed]",
      "text/plain": [
       "<matplotlib.figure.Figure at 0x10da9def0>"
      ]
     },
     "metadata": {},
     "output_type": "display_data"
    }
   ],
   "source": [
    "# big effect size, small pvalues\n",
    "n_many = 70\n",
    "n_few = 10\n",
    "\n",
    "H1 = np.concatenate((normal(50, 20, size=n_many),\n",
    "                     normal(10, 20, size=n_few)))\n",
    "S1 = np.concatenate((normal(400, 20, size=n_many),\n",
    "                     normal(20, 20, size=n_few)))\n",
    "\n",
    "print('pvalue', mannwhitneyu(H1, S1).pvalue)\n",
    "sns.distplot(H1, label='healthy1', kde=False, bins=np.arange(0,450,10))\n",
    "sns.distplot(S1, label='sick1', kde=False, bins=np.arange(0,450,10))\n",
    "plt.legend()"
   ]
  },
  {
   "cell_type": "code",
   "execution_count": 25,
   "metadata": {
    "collapsed": false,
    "slideshow": {
     "slide_type": "fragment"
    }
   },
   "outputs": [
    {
     "name": "stdout",
     "output_type": "stream",
     "text": [
      "pvalue 4.69291355033e-28\n"
     ]
    },
    {
     "data": {
      "text/plain": [
       "<matplotlib.legend.Legend at 0x10e1ecc88>"
      ]
     },
     "execution_count": 25,
     "metadata": {},
     "output_type": "execute_result"
    },
    {
     "data": {
      "image/png": "[encoded data removed]",
      "text/plain": [
       "<matplotlib.figure.Figure at 0x10ddc3780>"
      ]
     },
     "metadata": {},
     "output_type": "display_data"
    }
   ],
   "source": [
    "# small effect size, big pvalues\n",
    "H2 = np.concatenate((normal(30, 2, n_many),\n",
    "                     normal(35, 2, n_few)))\n",
    "S2 = np.concatenate((normal(50, 2, n_many),\n",
    "                     normal(60, 2, n_few)))\n",
    "print('pvalue', mannwhitneyu(H2, S2).pvalue)\n",
    "\n",
    "sns.distplot(H2, label='healthy2', kde=False, bins=np.arange(0,450,10))\n",
    "sns.distplot(S2, label='sick2', kde=False, bins=np.arange(0,450,10))\n",
    "plt.legend()"
   ]
  },
  {
   "cell_type": "markdown",
   "metadata": {
    "slideshow": {
     "slide_type": "slide"
    }
   },
   "source": [
    "# Normality assumption problem"
   ]
  },
  {
   "cell_type": "code",
   "execution_count": null,
   "metadata": {
    "collapsed": true,
    "slideshow": {
     "slide_type": "-"
    }
   },
   "outputs": [],
   "source": [
    "np.random.seed(0)    # set seed for the random numbers"
   ]
  },
  {
   "cell_type": "code",
   "execution_count": 26,
   "metadata": {
    "collapsed": false,
    "slideshow": {
     "slide_type": "fragment"
    }
   },
   "outputs": [],
   "source": [
    "data = pd.DataFrame({'group': ['sick']*100 + ['healthy']*100,\n",
    "                     'H pylori': np.concatenate((normal(8, 2, 100),\n",
    "                                                 exponential(7, 100)))})"
   ]
  },
  {
   "cell_type": "code",
   "execution_count": 27,
   "metadata": {
    "collapsed": false,
    "slideshow": {
     "slide_type": "fragment"
    }
   },
   "outputs": [
    {
     "data": {
      "text/plain": [
       "<matplotlib.legend.Legend at 0x10da8d6a0>"
      ]
     },
     "execution_count": 27,
     "metadata": {},
     "output_type": "execute_result"
    },
    {
     "data": {
      "image/png": "[encoded data removed]",
      "text/plain": [
       "<matplotlib.figure.Figure at 0x10cdc40f0>"
      ]
     },
     "metadata": {},
     "output_type": "display_data"
    }
   ],
   "source": [
    "sns.distplot(data.loc[data.group=='sick', 'H pylori'],\n",
    "             label='sick', kde=False)\n",
    "sns.distplot(data.loc[data.group=='healthy', 'H pylori'], \n",
    "             label='healthy', kde=False, bins=40)\n",
    "plt.legend()"
   ]
  },
  {
   "cell_type": "code",
   "execution_count": 28,
   "metadata": {
    "collapsed": true,
    "slideshow": {
     "slide_type": "fragment"
    }
   },
   "outputs": [],
   "source": [
    "t, pvalue = ttest_ind(data.loc[data.group=='sick', 'H pylori'],\n",
    "                      data.loc[data.group=='healthy', 'H pylori'])"
   ]
  },
  {
   "cell_type": "code",
   "execution_count": 29,
   "metadata": {
    "collapsed": false,
    "slideshow": {
     "slide_type": "fragment"
    }
   },
   "outputs": [
    {
     "data": {
      "text/plain": [
       "1.7283048631832336"
      ]
     },
     "execution_count": 29,
     "metadata": {},
     "output_type": "execute_result"
    }
   ],
   "source": [
    "t"
   ]
  },
  {
   "cell_type": "code",
   "execution_count": 30,
   "metadata": {
    "collapsed": false,
    "slideshow": {
     "slide_type": "fragment"
    }
   },
   "outputs": [
    {
     "data": {
      "text/plain": [
       "0.085492566172262571"
      ]
     },
     "execution_count": 30,
     "metadata": {},
     "output_type": "execute_result"
    }
   ],
   "source": [
    "pvalue"
   ]
  },
  {
   "cell_type": "markdown",
   "metadata": {
    "slideshow": {
     "slide_type": "slide"
    }
   },
   "source": [
    "# Normality assumption - Mann Whitney U-test"
   ]
  },
  {
   "cell_type": "code",
   "execution_count": 31,
   "metadata": {
    "collapsed": false,
    "slideshow": {
     "slide_type": "-"
    }
   },
   "outputs": [
    {
     "data": {
      "text/plain": [
       "<matplotlib.legend.Legend at 0x10e6229b0>"
      ]
     },
     "execution_count": 31,
     "metadata": {},
     "output_type": "execute_result"
    },
    {
     "data": {
      "image/png": "[encoded data removed]",
      "text/plain": [
       "<matplotlib.figure.Figure at 0x10e49fe10>"
      ]
     },
     "metadata": {},
     "output_type": "display_data"
    }
   ],
   "source": [
    "sns.distplot(data.loc[data.group=='sick', 'H pylori'],\n",
    "             label='sick', kde=False)\n",
    "sns.distplot(data.loc[data.group=='healthy', 'H pylori'], \n",
    "             label='healthy', kde=False, bins=40)\n",
    "plt.legend()"
   ]
  },
  {
   "cell_type": "code",
   "execution_count": 32,
   "metadata": {
    "collapsed": false,
    "slideshow": {
     "slide_type": "fragment"
    }
   },
   "outputs": [],
   "source": [
    "u, pvalue = mannwhitneyu(data.loc[data.group=='sick', 'H pylori'],\n",
    "                         data.loc[data.group=='healthy', 'H pylori'])"
   ]
  },
  {
   "cell_type": "code",
   "execution_count": 33,
   "metadata": {
    "collapsed": false,
    "slideshow": {
     "slide_type": "fragment"
    }
   },
   "outputs": [
    {
     "data": {
      "text/plain": [
       "3142.0"
      ]
     },
     "execution_count": 33,
     "metadata": {},
     "output_type": "execute_result"
    }
   ],
   "source": [
    "u"
   ]
  },
  {
   "cell_type": "code",
   "execution_count": 34,
   "metadata": {
    "collapsed": false,
    "slideshow": {
     "slide_type": "fragment"
    }
   },
   "outputs": [
    {
     "data": {
      "text/plain": [
       "2.8315160121805506e-06"
      ]
     },
     "execution_count": 34,
     "metadata": {},
     "output_type": "execute_result"
    }
   ],
   "source": [
    "pvalue"
   ]
  },
  {
   "cell_type": "markdown",
   "metadata": {
    "slideshow": {
     "slide_type": "slide"
    }
   },
   "source": [
    "# Multiple hypothesis testing problem\n",
    "A p-value of 0.05 for the null hypothesis means we will get such a significant result under the null hypothesis in 0.05 of the cases\n",
    "\n",
    "So if we do the test multiple times (say 100), it means that in 5 times out of the 100 the null hypothesis will be rejected and we will have false positives."
   ]
  },
  {
   "cell_type": "markdown",
   "metadata": {
    "slideshow": {
     "slide_type": "fragment"
    }
   },
   "source": [
    "When we look at a typical microbiome experiment, we have order of 1000 bacteria for which we want to test if they are different between sick and H\n",
    "\n",
    "Even if all bacteria are not different (the null hypothesis holds for all of them), if we just take the 0.05 p-value cutoff, we will reject 50 of bacteria and say they are different (and if we will look at their distribution, they will be convincing!)"
   ]
  },
  {
   "cell_type": "markdown",
   "metadata": {
    "slideshow": {
     "slide_type": "slide"
    }
   },
   "source": [
    "# Multiple hypothesis testing example\n",
    "## Generate the random data (same mean for both groups)"
   ]
  },
  {
   "cell_type": "code",
   "execution_count": 35,
   "metadata": {
    "collapsed": true,
    "slideshow": {
     "slide_type": "-"
    }
   },
   "outputs": [],
   "source": [
    "num_healthy = 100\n",
    "num_sick = 100\n",
    "num_samples = num_healthy + num_sick\n",
    "num_otus = 1000\n",
    "\n",
    "np.random.seed(0)    # set seed for the random numbers\n",
    "\n",
    "# generate non random data\n",
    "otu_ids = np.arange(num_otus)  # simulated OTU ids\n",
    "\n",
    "# randomly grab 200 values uniformly distributed between (0, 10) for each OTU\n",
    "random_data = pd.DataFrame({i: normal(7, 3, size=num_samples) for i in otu_ids})\n",
    "random_data['group'] = ['healthy'] * num_healthy + ['sick'] * num_sick"
   ]
  },
  {
   "cell_type": "code",
   "execution_count": 36,
   "metadata": {
    "collapsed": false,
    "slideshow": {
     "slide_type": "fragment"
    }
   },
   "outputs": [],
   "source": [
    "# calculate the p-value for each bacteria\n",
    "stats = pd.DataFrame(index=otu_ids)\n",
    "for i in otu_ids:\n",
    "    t, pvalue = mannwhitneyu(random_data.loc[random_data.group=='sick', i],\n",
    "                             random_data.loc[random_data.group=='healthy', i])\n",
    "    stats.loc[i, 't'] = t\n",
    "    stats.loc[i, 'pvalue'] = pvalue"
   ]
  },
  {
   "cell_type": "markdown",
   "metadata": {
    "slideshow": {
     "slide_type": "slide"
    }
   },
   "source": [
    "## Resulting p-values"
   ]
  },
  {
   "cell_type": "code",
   "execution_count": 37,
   "metadata": {
    "collapsed": false,
    "slideshow": {
     "slide_type": "-"
    }
   },
   "outputs": [
    {
     "data": {
      "text/html": [
       "<div>\n",
       "<table border=\"1\" class=\"dataframe\">\n",
       "  <thead>\n",
       "    <tr style=\"text-align: right;\">\n",
       "      <th></th>\n",
       "      <th>t</th>\n",
       "      <th>pvalue</th>\n",
       "    </tr>\n",
       "  </thead>\n",
       "  <tbody>\n",
       "    <tr>\n",
       "      <th>401</th>\n",
       "      <td>3648.0</td>\n",
       "      <td>0.000480</td>\n",
       "    </tr>\n",
       "    <tr>\n",
       "      <th>202</th>\n",
       "      <td>3732.0</td>\n",
       "      <td>0.000977</td>\n",
       "    </tr>\n",
       "    <tr>\n",
       "      <th>205</th>\n",
       "      <td>3799.0</td>\n",
       "      <td>0.001677</td>\n",
       "    </tr>\n",
       "    <tr>\n",
       "      <th>572</th>\n",
       "      <td>3823.0</td>\n",
       "      <td>0.002022</td>\n",
       "    </tr>\n",
       "    <tr>\n",
       "      <th>92</th>\n",
       "      <td>3835.0</td>\n",
       "      <td>0.002218</td>\n",
       "    </tr>\n",
       "  </tbody>\n",
       "</table>\n",
       "</div>"
      ],
      "text/plain": [
       "          t    pvalue\n",
       "401  3648.0  0.000480\n",
       "202  3732.0  0.000977\n",
       "205  3799.0  0.001677\n",
       "572  3823.0  0.002022\n",
       "92   3835.0  0.002218"
      ]
     },
     "execution_count": 37,
     "metadata": {},
     "output_type": "execute_result"
    }
   ],
   "source": [
    "stats.sort_values(by='pvalue').head()"
   ]
  },
  {
   "cell_type": "code",
   "execution_count": 38,
   "metadata": {
    "collapsed": false,
    "slideshow": {
     "slide_type": "fragment"
    }
   },
   "outputs": [
    {
     "data": {
      "text/plain": [
       "<matplotlib.legend.Legend at 0x10f165cf8>"
      ]
     },
     "execution_count": 38,
     "metadata": {},
     "output_type": "execute_result"
    },
    {
     "data": {
      "image/png": "[encoded data removed]",
      "text/plain": [
       "<matplotlib.figure.Figure at 0x10f165cc0>"
      ]
     },
     "metadata": {},
     "output_type": "display_data"
    }
   ],
   "source": [
    "# look at the most significant OTU\n",
    "max_otu = stats.pvalue.argmin()\n",
    "sns.distplot(random_data.loc[random_data.group=='sick', max_otu],\n",
    "             label='sick', kde=False, bins=20)\n",
    "sns.distplot(random_data.loc[random_data.group=='healthy', max_otu], \n",
    "             label='healthy', kde=False, bins=20)\n",
    "plt.legend()"
   ]
  },
  {
   "cell_type": "markdown",
   "metadata": {
    "slideshow": {
     "slide_type": "fragment"
    }
   },
   "source": [
    "Just by chance, there is a high chance that there are OTUs significantly different between the 2 groups."
   ]
  },
  {
   "cell_type": "code",
   "execution_count": 39,
   "metadata": {
    "collapsed": true,
    "slideshow": {
     "slide_type": "skip"
    }
   },
   "outputs": [],
   "source": [
    "# create a dataset with a real difference between sick and healthy\n",
    "num_healthy  = 50\n",
    "num_sick     = 50\n",
    "healthy_mean = 8\n",
    "sick_mean    = 7\n",
    "variance     = 2\n",
    "\n",
    "healthy_data = pd.DataFrame({i: normal(healthy_mean, variance, size=num_healthy) \n",
    "                             for i in otu_ids})\n",
    "sick_data = pd.DataFrame({i: normal(sick_mean, variance, size=num_sick) \n",
    "                          for i in otu_ids})\n",
    "\n",
    "data = pd.concat((healthy_data, sick_data))\n",
    "data['group'] = ['healthy'] * num_healthy + ['sick'] * num_sick"
   ]
  },
  {
   "cell_type": "code",
   "execution_count": 40,
   "metadata": {
    "collapsed": true,
    "slideshow": {
     "slide_type": "skip"
    }
   },
   "outputs": [],
   "source": [
    "realstats = pd.DataFrame(index=otu_ids)\n",
    "for i in otu_ids:\n",
    "    t, pvalue = mannwhitneyu(data.loc[data.group=='sick', i],\n",
    "                             data.loc[data.group=='healthy', i])\n",
    "    realstats.loc[i, 't'] = t\n",
    "    realstats.loc[i, 'pvalue'] = pvalue"
   ]
  },
  {
   "cell_type": "markdown",
   "metadata": {
    "slideshow": {
     "slide_type": "slide"
    }
   },
   "source": [
    "# So what can we do?\n",
    "We cannot change the p-values!\n",
    "\n",
    "But we can change the threshold $\\alpha$ defining when we reject the null hypothesis\n"
   ]
  },
  {
   "cell_type": "markdown",
   "metadata": {
    "slideshow": {
     "slide_type": "fragment"
    }
   },
   "source": [
    "# Bonferroni Correction\n",
    "given a threshold $\\alpha$ for rejecting the null hypothesis for a single bacteria, we define a new threshold for rejection when doing the test on $n$ bacteria by:\n",
    "\n",
    "$\\alpha'=\\frac{\\alpha}{n} $\n",
    "\n",
    "and reject the null hypothesis based on the new $\\alpha'$\n",
    "\n",
    "This controls the Family Wise Error Rate (FWER) to $\\alpha$, meaning the probability that we made at least one false rejection is lower than $\\alpha$\n",
    "\n",
    "The good thing is we do not need to assume independence between the bacteria\n",
    "\n",
    "But we pay a big price in the power!"
   ]
  },
  {
   "cell_type": "markdown",
   "metadata": {
    "slideshow": {
     "slide_type": "slide"
    }
   },
   "source": [
    "# Bonferroni correction - example"
   ]
  },
  {
   "cell_type": "code",
   "execution_count": 41,
   "metadata": {
    "collapsed": false,
    "slideshow": {
     "slide_type": "-"
    }
   },
   "outputs": [
    {
     "data": {
      "text/html": [
       "<div>\n",
       "<table border=\"1\" class=\"dataframe\">\n",
       "  <thead>\n",
       "    <tr style=\"text-align: right;\">\n",
       "      <th></th>\n",
       "      <th>t</th>\n",
       "      <th>pvalue</th>\n",
       "      <th>corrected pvalue</th>\n",
       "    </tr>\n",
       "  </thead>\n",
       "  <tbody>\n",
       "    <tr>\n",
       "      <th>401</th>\n",
       "      <td>3648.0</td>\n",
       "      <td>0.000480</td>\n",
       "      <td>0.381028</td>\n",
       "    </tr>\n",
       "    <tr>\n",
       "      <th>202</th>\n",
       "      <td>3732.0</td>\n",
       "      <td>0.000977</td>\n",
       "      <td>0.623548</td>\n",
       "    </tr>\n",
       "    <tr>\n",
       "      <th>205</th>\n",
       "      <td>3799.0</td>\n",
       "      <td>0.001677</td>\n",
       "      <td>0.812694</td>\n",
       "    </tr>\n",
       "    <tr>\n",
       "      <th>572</th>\n",
       "      <td>3823.0</td>\n",
       "      <td>0.002022</td>\n",
       "      <td>0.867128</td>\n",
       "    </tr>\n",
       "    <tr>\n",
       "      <th>92</th>\n",
       "      <td>3835.0</td>\n",
       "      <td>0.002218</td>\n",
       "      <td>0.890505</td>\n",
       "    </tr>\n",
       "  </tbody>\n",
       "</table>\n",
       "</div>"
      ],
      "text/plain": [
       "          t    pvalue  corrected pvalue\n",
       "401  3648.0  0.000480          0.381028\n",
       "202  3732.0  0.000977          0.623548\n",
       "205  3799.0  0.001677          0.812694\n",
       "572  3823.0  0.002022          0.867128\n",
       "92   3835.0  0.002218          0.890505"
      ]
     },
     "execution_count": 41,
     "metadata": {},
     "output_type": "execute_result"
    }
   ],
   "source": [
    "reject, corrected_pvals, sidak, bonf = multipletests(stats.pvalue)\n",
    "stats['corrected pvalue'] = corrected_pvals\n",
    "stats.sort_values(by='pvalue').head()"
   ]
  },
  {
   "cell_type": "code",
   "execution_count": 42,
   "metadata": {
    "collapsed": false,
    "slideshow": {
     "slide_type": "fragment"
    }
   },
   "outputs": [
    {
     "name": "stdout",
     "output_type": "stream",
     "text": [
      "before Bonferroni correction: 96\n",
      "after Bonferroni correction: 0\n"
     ]
    }
   ],
   "source": [
    "# random data\n",
    "num_rejects=np.sum(stats.pvalue<=0.05)\n",
    "reject, corrected_pvals, sidak, bonf = multipletests(stats.pvalue)\n",
    "num_bonf_rejects=np.sum(corrected_pvals<=0.05)\n",
    "print('before Bonferroni correction: %d' % num_rejects)\n",
    "print('after Bonferroni correction: %d' % num_bonf_rejects)"
   ]
  },
  {
   "cell_type": "code",
   "execution_count": 43,
   "metadata": {
    "collapsed": false,
    "slideshow": {
     "slide_type": "fragment"
    }
   },
   "outputs": [
    {
     "name": "stdout",
     "output_type": "stream",
     "text": [
      "before Bonferroni correction: 773\n",
      "after Bonferroni correction: 58\n"
     ]
    }
   ],
   "source": [
    "# real difference data\n",
    "num_rejects=np.sum(realstats.pvalue<=0.05)\n",
    "reject, corrected_pvals, sidak, bonf = multipletests(realstats.pvalue)\n",
    "num_bonf_rejects=np.sum(corrected_pvals<=0.05)\n",
    "print('before Bonferroni correction: %d' % num_rejects)\n",
    "print('after Bonferroni correction: %d' % num_bonf_rejects)\n",
    "\n"
   ]
  },
  {
   "cell_type": "markdown",
   "metadata": {
    "slideshow": {
     "slide_type": "slide"
    }
   },
   "source": [
    "# False Discovery Rate control (FDR)\n",
    "Sometimes we don't mind making mistakes, as long as we don't make too many.\n",
    "\n",
    "If we relax our restriction (that with very high probability all rejects are correct) and instead require only that the fraction of false rejects will be small, we can have more power.\n",
    "\n",
    "Testing with a given FDR value $q$ means:\n",
    "$\\frac{\\text{number of false rejections}}{\\text{total rejections}}\\leq q$\n",
    "\n",
    "And using FDR methods (such as Benjamini-Hochberg) we can find the p-value cutoff that guarantees controlling the FDR.\n",
    "\n",
    "The good thing: this cutoff is usually much higher than Bonferroni\n"
   ]
  },
  {
   "cell_type": "markdown",
   "metadata": {
    "slideshow": {
     "slide_type": "slide"
    }
   },
   "source": [
    "# FDR (Benjamini-Hochberg) example"
   ]
  },
  {
   "cell_type": "code",
   "execution_count": 44,
   "metadata": {
    "collapsed": false,
    "slideshow": {
     "slide_type": "-"
    }
   },
   "outputs": [
    {
     "name": "stdout",
     "output_type": "stream",
     "text": [
      "before FDR-BH correction: 96\n",
      "after FDR-BH correction: 0\n"
     ]
    }
   ],
   "source": [
    "# random data\n",
    "num_rejects=np.sum(stats.pvalue<=0.05)\n",
    "reject,a,b,c = multipletests(stats.pvalue,method = 'fdr_bh')\n",
    "num_fdr_rejects=np.sum(reject==True)\n",
    "print('before FDR-BH correction: %d' % num_rejects)\n",
    "print('after FDR-BH correction: %d' % num_fdr_rejects)\n"
   ]
  },
  {
   "cell_type": "code",
   "execution_count": 45,
   "metadata": {
    "collapsed": false,
    "slideshow": {
     "slide_type": "fragment"
    }
   },
   "outputs": [
    {
     "name": "stdout",
     "output_type": "stream",
     "text": [
      "before FDR-BH correction: 773\n",
      "after FDR-BH correction: 728\n",
      "(after Bonferroni correction it was: 58)\n"
     ]
    }
   ],
   "source": [
    "# real difference data\n",
    "num_rejects=np.sum(realstats.pvalue<=0.05)\n",
    "reject,a,b,c = multipletests(realstats.pvalue,method = 'fdr_bh')\n",
    "num_fdr_rejects=np.sum(reject==True)\n",
    "print('before FDR-BH correction: %d' % num_rejects)\n",
    "print('after FDR-BH correction: %d' % num_fdr_rejects)\n",
    "print('(after Bonferroni correction it was: %d)' % num_bonf_rejects)"
   ]
  },
  {
   "cell_type": "markdown",
   "metadata": {
    "slideshow": {
     "slide_type": "slide"
    }
   },
   "source": [
    "# Compositionality problem"
   ]
  },
  {
   "cell_type": "code",
   "execution_count": 46,
   "metadata": {
    "collapsed": false,
    "slideshow": {
     "slide_type": "-"
    }
   },
   "outputs": [],
   "source": [
    "num_healthy = 100\n",
    "num_sick = 100\n",
    "num_samples = num_healthy + num_sick\n",
    "num_otus = 1000\n",
    "data = pd.DataFrame({i: uniform(low=0.0, high=10.0, size=num_samples) \n",
    "                     for i in otu_ids})\n",
    "\n",
    "# Simulate a bloom.  OTU0 increases by a factor of 10 at each sample\n",
    "data.loc[:, 0] = np.arange(num_samples) * 10\n",
    "\n",
    "# normalize down to proportions.  \n",
    "#See week1.sample.ipynb for further explanation.\n",
    "data = data.apply(lambda x : x/x.sum(), axis=1)"
   ]
  },
  {
   "cell_type": "code",
   "execution_count": 47,
   "metadata": {
    "collapsed": false,
    "slideshow": {
     "slide_type": "fragment"
    }
   },
   "outputs": [
    {
     "data": {
      "text/plain": [
       "<seaborn.axisgrid.FacetGrid at 0x10f555ba8>"
      ]
     },
     "execution_count": 47,
     "metadata": {},
     "output_type": "execute_result"
    },
    {
     "data": {
      "image/png": "[encoded data removed]",
      "text/plain": [
       "<matplotlib.figure.Figure at 0x10f5557b8>"
      ]
     },
     "metadata": {},
     "output_type": "display_data"
    }
   ],
   "source": [
    "groups = pd.Series(['sick']*num_sick + ['healthy']*num_healthy)\n",
    "data['group'] = groups\n",
    "sns.factorplot(x='group', y=0, data=data, kind='violin')"
   ]
  },
  {
   "cell_type": "code",
   "execution_count": 48,
   "metadata": {
    "collapsed": true,
    "slideshow": {
     "slide_type": "fragment"
    }
   },
   "outputs": [],
   "source": [
    "stats = pd.DataFrame(index=otu_ids)\n",
    "for i in otu_ids:\n",
    "    t, pvalue = ttest_ind(data.loc[data.group=='sick', i],\n",
    "                          data.loc[data.group=='healthy', i])\n",
    "    stats.loc[i, 't'] = t\n",
    "    stats.loc[i, 'pvalue'] = pvalue\n",
    "\n",
    "# Multiple hypothesis tests\n",
    "reject, pvals, sidak, bonf = multipletests(stats.pvalue)\n",
    "stats['corrected pvalue'] = pvals\n"
   ]
  },
  {
   "cell_type": "code",
   "execution_count": 49,
   "metadata": {
    "collapsed": false,
    "slideshow": {
     "slide_type": "fragment"
    }
   },
   "outputs": [
    {
     "data": {
      "text/html": [
       "<div>\n",
       "<table border=\"1\" class=\"dataframe\">\n",
       "  <thead>\n",
       "    <tr style=\"text-align: right;\">\n",
       "      <th></th>\n",
       "      <th>t</th>\n",
       "      <th>pvalue</th>\n",
       "      <th>corrected pvalue</th>\n",
       "    </tr>\n",
       "  </thead>\n",
       "  <tbody>\n",
       "    <tr>\n",
       "      <th>0</th>\n",
       "      <td>-23.593920</td>\n",
       "      <td>1.950286e-59</td>\n",
       "      <td>0.000000</td>\n",
       "    </tr>\n",
       "    <tr>\n",
       "      <th>401</th>\n",
       "      <td>5.109459</td>\n",
       "      <td>7.578950e-07</td>\n",
       "      <td>0.000757</td>\n",
       "    </tr>\n",
       "    <tr>\n",
       "      <th>114</th>\n",
       "      <td>5.091954</td>\n",
       "      <td>8.224364e-07</td>\n",
       "      <td>0.000820</td>\n",
       "    </tr>\n",
       "    <tr>\n",
       "      <th>25</th>\n",
       "      <td>4.881258</td>\n",
       "      <td>2.165406e-06</td>\n",
       "      <td>0.002157</td>\n",
       "    </tr>\n",
       "    <tr>\n",
       "      <th>251</th>\n",
       "      <td>4.843068</td>\n",
       "      <td>2.572688e-06</td>\n",
       "      <td>0.002559</td>\n",
       "    </tr>\n",
       "  </tbody>\n",
       "</table>\n",
       "</div>"
      ],
      "text/plain": [
       "             t        pvalue  corrected pvalue\n",
       "0   -23.593920  1.950286e-59          0.000000\n",
       "401   5.109459  7.578950e-07          0.000757\n",
       "114   5.091954  8.224364e-07          0.000820\n",
       "25    4.881258  2.165406e-06          0.002157\n",
       "251   4.843068  2.572688e-06          0.002559"
      ]
     },
     "execution_count": 49,
     "metadata": {},
     "output_type": "execute_result"
    }
   ],
   "source": [
    "stats.sort_values(by='pvalue').head()    "
   ]
  },
  {
   "cell_type": "markdown",
   "metadata": {
    "slideshow": {
     "slide_type": "slide"
    }
   },
   "source": [
    "The main take away.  Every statistical test has its own set of assumptions. \n",
    "\n",
    "Other tests\n",
    "- ANOVA\n",
    "- Kruskal Wallis test\n",
    "- Kolmogorov Smirnov test\n",
    "- Many many others"
   ]
  },
  {
   "cell_type": "code",
   "execution_count": null,
   "metadata": {
    "collapsed": true
   },
   "outputs": [],
   "source": []
  }
 ],
 "metadata": {
  "celltoolbar": "Slideshow",
  "kernelspec": {
   "display_name": "Python 3",
   "language": "python",
   "name": "python3"
  },
  "language_info": {
   "codemirror_mode": {
    "name": "ipython",
    "version": 3
   },
   "file_extension": ".py",
   "mimetype": "text/x-python",
   "name": "python",
   "nbconvert_exporter": "python",
   "pygments_lexer": "ipython3",
   "version": "3.5.2"
  }
 },
 "nbformat": 4,
 "nbformat_minor": 0
}
