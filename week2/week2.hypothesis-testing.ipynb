{
 "cells": [
  {
   "cell_type": "markdown",
   "metadata": {
    "slideshow": {
     "slide_type": "slide"
    }
   },
   "source": [
    "# Week 2 Hypothesis Testing\n",
    "\n"
   ]
  },
  {
   "cell_type": "code",
   "execution_count": 1,
   "metadata": {
    "collapsed": false,
    "slideshow": {
     "slide_type": "skip"
    }
   },
   "outputs": [
    {
     "data": {
      "text/plain": [
       "{'start_slideshow_at': 'selected', 'theme': 'serif', 'transition': 'fade'}"
      ]
     },
     "execution_count": 1,
     "metadata": {},
     "output_type": "execute_result"
    }
   ],
   "source": [
    "\n",
    "# setup the presentation settings\n",
    "from notebook.services.config import ConfigManager\n",
    "cm = ConfigManager()\n",
    "cm.update('livereveal', {\n",
    "              'theme': 'serif',\n",
    "              'start_slideshow_at': 'selected',\n",
    "              'transition': 'fade'\n",
    "})"
   ]
  },
  {
   "cell_type": "markdown",
   "metadata": {
    "slideshow": {
     "slide_type": "slide"
    }
   },
   "source": [
    "# Science and Hypothesis\n",
    "\n",
    "- Last time we talked about probability.\n",
    "- But we are not gamblers. We are SCIENTISTS. We want to learn about the world we live in...\n",
    "- The scientific process:\n",
    "  - Hypothesize something about the world\n",
    "  - devise an experiment that can falsify it\n",
    "  -  and see if the hypothesis still holds\n",
    "\n",
    "So here comes hypothesis testing..."
   ]
  },
  {
   "cell_type": "markdown",
   "metadata": {
    "slideshow": {
     "slide_type": "slide"
    }
   },
   "source": [
    "# Science and Hypothesis (continued)\n",
    "\n",
    "Sometimes life is easy:\n",
    "-  Hypothesis: all bacteria are good\n",
    "-  But then we see pathogenic e. coli\n",
    "-  So it falsifies our hypothesis. Back to the drawing board...\n",
    "\n",
    "But usually it's not that easy to falsify an hypthesis:\n",
    "- Hypothesis: sick people have e. coli\n",
    "- and we test 10 people and see they all have e. coli\n",
    "- what does it mean about our hypothesis? Is 10 enough? 100? 1000000?\n",
    "\n",
    "We need the power of STATISTICS!"
   ]
  },
  {
   "cell_type": "markdown",
   "metadata": {
    "slideshow": {
     "slide_type": "slide"
    }
   },
   "source": [
    "# What is a (statistical) hypothesis?\n",
    "\n",
    "A statistical hypothesis is a hypothesis that is testable on the basis of observing a process that \n",
    "is modeled via a set of random variables.\n",
    "\n",
    "In statistics, when we say hypothesis testing, we usually inquire if the evidence supports our hypothesis.\n",
    "\n",
    "If so, to what degree?"
   ]
  },
  {
   "cell_type": "markdown",
   "metadata": {
    "slideshow": {
     "slide_type": "slide"
    }
   },
   "source": [
    "# Bayesian and Frequentist Approaches\n",
    "\n",
    "__Bayesian__: Given an observation X, what are the probabilities of the different hypothesis? Or sometimes, given a set of hypothesis, is there one which is one more likely than the other given the observation?\n",
    "\n",
    "__Frequentist__: what is the probability of getting observation X under the null hypothesis $H_0$. If it is very low, we assume it is incorrect.\n",
    "\n",
    "We will focus on Frequentist approach"
   ]
  },
  {
   "cell_type": "markdown",
   "metadata": {
    "slideshow": {
     "slide_type": "slide"
    }
   },
   "source": [
    "# Frequentist Testing process - Informal Example\n",
    "\n",
    "Say we have a coin and we want to test if it is fair or not.\n",
    "\n",
    "Assume we flipped the coin 1000 times and observed 995 Heads. We would suspect that the coin has a bias towards giving Head vs. Tail.\n"
   ]
  },
  {
   "cell_type": "markdown",
   "metadata": {
    "slideshow": {
     "slide_type": "slide"
    }
   },
   "source": [
    "# Frequentist Testing process - Example continued\n",
    "\n",
    "So what is going on?\n",
    "\n",
    "In our mind, there are two probable options, one is that the coin is fair ($P(H)=P(T)=0.5$) and the other is that the coin has some bias towards one side vs. the other (we don't know what bias exactly).\n",
    "\n",
    "We can calculate the probabilities of the fair coin (exact null hypothesis), and based on the unfair model, we can say what result is more unfair than others..."
   ]
  },
  {
   "cell_type": "markdown",
   "metadata": {
    "slideshow": {
     "slide_type": "slide"
    }
   },
   "source": [
    "# Frequentist Testing process - the ground is shaky\n",
    "\n",
    "Say we flip a coin and we get:\n",
    "\n",
    "HHTHHHHHHHTTHHHHHTHTHTHHTHTTH\n",
    "\n",
    "looks relatively fair coin,\n"
   ]
  },
  {
   "cell_type": "markdown",
   "metadata": {
    "slideshow": {
     "slide_type": "fragment"
    }
   },
   "source": [
    "but if we translate to morse code (-=H, .=T)\n",
    "\n",
    "--. --- --- -.. -- --- .-. -. .. -. --.\n",
    "\n",
    "which means:\n",
    "Good Morning!"
   ]
  },
  {
   "cell_type": "markdown",
   "metadata": {
    "slideshow": {
     "slide_type": "fragment"
    }
   },
   "source": [
    "So is it random? what is the probability of getting this by chance?\n",
    "\n",
    "The probability of any single set of n coin flips is $2^{-n}$, but that doesn't help us.\n",
    "\n",
    "We need to define what results are interesting (give an order to the results).\n",
    "\n",
    "What about morse code for German? Where do we stop?\n",
    "\n",
    "So we need some idea of the non-null hypothesis"
   ]
  },
  {
   "cell_type": "markdown",
   "metadata": {
    "slideshow": {
     "slide_type": "slide"
    }
   },
   "source": [
    "# Sick vs Healthy simulation\n",
    "\n",
    "Let's construct a simple example\n",
    "- There are 200 people being surveyed\n",
    "  - 100 of these people are healthy and the rest are sick\n",
    "- Concentrations of H pylori are measured\n",
    "\n",
    "- Is there a difference between sick and healthy people based on H pylori concentration?\n"
   ]
  },
  {
   "cell_type": "code",
   "execution_count": 2,
   "metadata": {
    "collapsed": false,
    "slideshow": {
     "slide_type": "skip"
    }
   },
   "outputs": [],
   "source": [
    "import warnings   # running fast and loose\n",
    "warnings.simplefilter(\"ignore\") \n",
    "\n",
    "import numpy as np\n",
    "import pandas as pd\n",
    "import seaborn as sns\n",
    "import matplotlib.pyplot as plt\n",
    "from scipy.stats import ttest_ind, mannwhitneyu, rankdata\n",
    "from statsmodels.sandbox.stats.multicomp import multipletests\n",
    "from numpy.random import normal, shuffle, permutation\n",
    "\n",
    "%matplotlib inline"
   ]
  },
  {
   "cell_type": "code",
   "execution_count": 3,
   "metadata": {
    "collapsed": true,
    "slideshow": {
     "slide_type": "skip"
    }
   },
   "outputs": [],
   "source": [
    "np.random.seed(0)    # set seed for the random numbers"
   ]
  },
  {
   "cell_type": "code",
   "execution_count": 4,
   "metadata": {
    "collapsed": false,
    "slideshow": {
     "slide_type": "slide"
    }
   },
   "outputs": [],
   "source": [
    "sick_mean    = 8\n",
    "healthy_mean = 5\n",
    "variance     = 2\n",
    "num_sick     = 100\n",
    "num_healthy  = 100\n",
    "sick_data    = np.random.normal(sick_mean, variance, num_sick)\n",
    "healthy_data = np.random.normal(healthy_mean, variance, num_healthy)\n",
    "data = pd.DataFrame({'group': ['sick']*num_sick + ['healthy']*num_healthy,\n",
    "                     'H pylori': np.concatenate((sick_data, healthy_data))})"
   ]
  },
  {
   "cell_type": "code",
   "execution_count": 5,
   "metadata": {
    "collapsed": false,
    "slideshow": {
     "slide_type": "fragment"
    }
   },
   "outputs": [
    {
     "data": {
      "text/html": [
       "<div>\n",
       "<table border=\"1\" class=\"dataframe\">\n",
       "  <thead>\n",
       "    <tr style=\"text-align: right;\">\n",
       "      <th></th>\n",
       "      <th>H pylori</th>\n",
       "      <th>group</th>\n",
       "    </tr>\n",
       "  </thead>\n",
       "  <tbody>\n",
       "    <tr>\n",
       "      <th>0</th>\n",
       "      <td>11.528105</td>\n",
       "      <td>sick</td>\n",
       "    </tr>\n",
       "    <tr>\n",
       "      <th>1</th>\n",
       "      <td>8.800314</td>\n",
       "      <td>sick</td>\n",
       "    </tr>\n",
       "    <tr>\n",
       "      <th>2</th>\n",
       "      <td>9.957476</td>\n",
       "      <td>sick</td>\n",
       "    </tr>\n",
       "    <tr>\n",
       "      <th>3</th>\n",
       "      <td>12.481786</td>\n",
       "      <td>sick</td>\n",
       "    </tr>\n",
       "  </tbody>\n",
       "</table>\n",
       "</div>"
      ],
      "text/plain": [
       "    H pylori group\n",
       "0  11.528105  sick\n",
       "1   8.800314  sick\n",
       "2   9.957476  sick\n",
       "3  12.481786  sick"
      ]
     },
     "execution_count": 5,
     "metadata": {},
     "output_type": "execute_result"
    }
   ],
   "source": [
    "data.head(n=4)"
   ]
  },
  {
   "cell_type": "code",
   "execution_count": 6,
   "metadata": {
    "collapsed": false,
    "slideshow": {
     "slide_type": "fragment"
    }
   },
   "outputs": [
    {
     "data": {
      "text/html": [
       "<div>\n",
       "<table border=\"1\" class=\"dataframe\">\n",
       "  <thead>\n",
       "    <tr style=\"text-align: right;\">\n",
       "      <th></th>\n",
       "      <th>H pylori</th>\n",
       "      <th>group</th>\n",
       "    </tr>\n",
       "  </thead>\n",
       "  <tbody>\n",
       "    <tr>\n",
       "      <th>196</th>\n",
       "      <td>6.543581</td>\n",
       "      <td>healthy</td>\n",
       "    </tr>\n",
       "    <tr>\n",
       "      <th>197</th>\n",
       "      <td>6.647008</td>\n",
       "      <td>healthy</td>\n",
       "    </tr>\n",
       "    <tr>\n",
       "      <th>198</th>\n",
       "      <td>9.326472</td>\n",
       "      <td>healthy</td>\n",
       "    </tr>\n",
       "    <tr>\n",
       "      <th>199</th>\n",
       "      <td>7.673056</td>\n",
       "      <td>healthy</td>\n",
       "    </tr>\n",
       "  </tbody>\n",
       "</table>\n",
       "</div>"
      ],
      "text/plain": [
       "     H pylori    group\n",
       "196  6.543581  healthy\n",
       "197  6.647008  healthy\n",
       "198  9.326472  healthy\n",
       "199  7.673056  healthy"
      ]
     },
     "execution_count": 6,
     "metadata": {},
     "output_type": "execute_result"
    }
   ],
   "source": [
    "data.tail(n=4)"
   ]
  },
  {
   "cell_type": "code",
   "execution_count": 7,
   "metadata": {
    "collapsed": false,
    "slideshow": {
     "slide_type": "slide"
    }
   },
   "outputs": [
    {
     "data": {
      "text/plain": [
       "<matplotlib.legend.Legend at 0x11c17fe48>"
      ]
     },
     "execution_count": 7,
     "metadata": {},
     "output_type": "execute_result"
    },
    {
     "data": {
      "image/png": "[encoded data removed]",
      "text/plain": [
       "<matplotlib.figure.Figure at 0x11c17fd68>"
      ]
     },
     "metadata": {},
     "output_type": "display_data"
    }
   ],
   "source": [
    "# Plot H pylori distribution for the sick group\n",
    "sns.distplot(data.loc[data.group=='sick', 'H pylori'],     \n",
    "             label='sick', kde=False, bins=10)\n",
    "# Plot H pylori distribution for the healthy group\n",
    "sns.distplot(data.loc[data.group=='healthy', 'H pylori'],\n",
    "             label='healthy', kde=False, bins=10)\n",
    "plt.legend()"
   ]
  },
  {
   "cell_type": "markdown",
   "metadata": {
    "slideshow": {
     "slide_type": "slide"
    }
   },
   "source": [
    "What is our hypothesis?\n",
    "\n",
    "The sick and healthy distributions have different means.\n",
    "\n",
    "More precisely\n",
    "\n",
    "$H_a: \\mu_H \\neq \\mu_S$\n",
    "\n",
    "$H_0: \\mu_H= \\mu_S$\n",
    "\n",
    "H = Healthy\n",
    "\n",
    "S = Sick"
   ]
  },
  {
   "cell_type": "markdown",
   "metadata": {
    "slideshow": {
     "slide_type": "slide"
    }
   },
   "source": [
    "# What's the outcome\n",
    "\n",
    "\n",
    "we get a p-value. what does it mean? \n",
    "\n",
    "The p-value is the probability of getting such a result or more extreme under the null hypothesis. If it is very low, we would like to reject the null hypothesis (say it is incorrect).\n",
    "\n",
    "Note that a (relatively) high p-value does not indicate that the null hypothesis is true. just that we cannot rule it out (i.e. one coin toss). Especially since our $H_a$ model is not well defined.\n",
    "\n",
    "what cutoff should we take?\n",
    "\n",
    "0.05!"
   ]
  },
  {
   "cell_type": "markdown",
   "metadata": {
    "slideshow": {
     "slide_type": "slide"
    }
   },
   "source": [
    "# False positive and false negative errors\n",
    "\n",
    "False positive (type 1) - we reject the null hypothesis when in reality it is correct\n",
    "\n",
    "$\\alpha = P(reject\\; H_0\\; |\\; H_0\\; is\\; True)$\n",
    "\n",
    "False negative (type 2) - we don't reject the null hypothesis when in reality it is incorrect\n",
    "\n",
    "$\\beta = P(reject\\; H_0\\; |\\; H_a\\; is\\; True)$\n"
   ]
  },
  {
   "cell_type": "markdown",
   "metadata": {
    "slideshow": {
     "slide_type": "slide"
    }
   },
   "source": [
    "# False positive and false negative errors\n",
    "\n",
    "<img src=\"files/type-i-and-type-ii-errors.jpg\">"
   ]
  },
  {
   "cell_type": "markdown",
   "metadata": {
    "slideshow": {
     "slide_type": "slide"
    }
   },
   "source": [
    "# Bad estimators\n",
    "Always accept $H_0$  \n",
    "\n",
    "$\\alpha=0$ -> No Type I errors\n",
    "\n",
    "Always reject $H_0$  \n",
    "\n",
    "$\\beta=0$ -> No Type II errors\n",
    "\n",
    "The frequentist approach : control the Type I error, but little control over Type II error"
   ]
  },
  {
   "cell_type": "markdown",
   "metadata": {
    "slideshow": {
     "slide_type": "slide"
    }
   },
   "source": [
    "# Sick vs healthy example (continued)\n",
    "\n",
    "$H_a: \\mu_H \\neq \\mu_S$  The means between sick and healthy are different\n",
    "\n",
    "$H_0: \\mu_H= \\mu_S$ The means are the same\n",
    "\n",
    "pvalue = the probability we acknowledge that sick and healthy are different given that they are the same\n",
    "\n",
    "We will use the [t-test](https://en.wikipedia.org/wiki/Student%27s_t-test) to estimate this probability\n",
    "    "
   ]
  },
  {
   "cell_type": "code",
   "execution_count": 8,
   "metadata": {
    "collapsed": true,
    "slideshow": {
     "slide_type": "subslide"
    }
   },
   "outputs": [],
   "source": [
    "t, pvalue = ttest_ind(data.loc[data.group=='sick', 'H pylori'],\n",
    "                      data.loc[data.group=='healthy', 'H pylori'])"
   ]
  },
  {
   "cell_type": "code",
   "execution_count": 9,
   "metadata": {
    "collapsed": false,
    "slideshow": {
     "slide_type": "fragment"
    }
   },
   "outputs": [
    {
     "data": {
      "text/plain": [
       "10.179745677305018"
      ]
     },
     "execution_count": 9,
     "metadata": {},
     "output_type": "execute_result"
    }
   ],
   "source": [
    "t"
   ]
  },
  {
   "cell_type": "code",
   "execution_count": 10,
   "metadata": {
    "collapsed": false,
    "slideshow": {
     "slide_type": "fragment"
    }
   },
   "outputs": [
    {
     "data": {
      "text/plain": [
       "7.6431617406052428e-20"
      ]
     },
     "execution_count": 10,
     "metadata": {},
     "output_type": "execute_result"
    }
   ],
   "source": [
    "pvalue"
   ]
  },
  {
   "cell_type": "code",
   "execution_count": 11,
   "metadata": {
    "collapsed": true,
    "slideshow": {
     "slide_type": "subslide"
    }
   },
   "outputs": [],
   "source": [
    "u, pvalue = mannwhitneyu(data.loc[data.group=='sick', 'H pylori'],\n",
    "                         data.loc[data.group=='healthy', 'H pylori'])"
   ]
  },
  {
   "cell_type": "code",
   "execution_count": 12,
   "metadata": {
    "collapsed": false,
    "slideshow": {
     "slide_type": "fragment"
    }
   },
   "outputs": [
    {
     "data": {
      "text/plain": [
       "8377.0"
      ]
     },
     "execution_count": 12,
     "metadata": {},
     "output_type": "execute_result"
    }
   ],
   "source": [
    "u"
   ]
  },
  {
   "cell_type": "code",
   "execution_count": 13,
   "metadata": {
    "collapsed": false,
    "slideshow": {
     "slide_type": "fragment"
    }
   },
   "outputs": [
    {
     "data": {
      "text/plain": [
       "1.5825862492423672e-16"
      ]
     },
     "execution_count": 13,
     "metadata": {},
     "output_type": "execute_result"
    }
   ],
   "source": [
    "pvalue"
   ]
  },
  {
   "cell_type": "markdown",
   "metadata": {
    "slideshow": {
     "slide_type": "slide"
    }
   },
   "source": [
    "# Effect Size problem"
   ]
  },
  {
   "cell_type": "code",
   "execution_count": 14,
   "metadata": {
    "collapsed": true,
    "slideshow": {
     "slide_type": "slide"
    }
   },
   "outputs": [],
   "source": [
    "n = 100000\n",
    "np.random.seed(0)    # set seed for the random numbers\n",
    "\n",
    "data = pd.DataFrame({'group': ['healthy1']*n + ['healthy2']*n,\n",
    "                     'H pylori': np.concatenate((np.random.normal(8.1, 2, n),\n",
    "                                                 np.random.normal(8, 2, n)))})\n",
    "t, pvalue = ttest_ind(data.loc[data.group=='healthy1', 'H pylori'],\n",
    "                      data.loc[data.group=='healthy2', 'H pylori'])"
   ]
  },
  {
   "cell_type": "code",
   "execution_count": 15,
   "metadata": {
    "collapsed": false
   },
   "outputs": [
    {
     "data": {
      "text/plain": [
       "10.4146543383201"
      ]
     },
     "execution_count": 15,
     "metadata": {},
     "output_type": "execute_result"
    }
   ],
   "source": [
    "t"
   ]
  },
  {
   "cell_type": "code",
   "execution_count": 16,
   "metadata": {
    "collapsed": false
   },
   "outputs": [
    {
     "data": {
      "text/plain": [
       "2.1577457502909888e-25"
      ]
     },
     "execution_count": 16,
     "metadata": {},
     "output_type": "execute_result"
    }
   ],
   "source": [
    "pvalue"
   ]
  },
  {
   "cell_type": "code",
   "execution_count": 17,
   "metadata": {
    "collapsed": false
   },
   "outputs": [
    {
     "data": {
      "text/plain": [
       "<matplotlib.legend.Legend at 0x11c17f518>"
      ]
     },
     "execution_count": 17,
     "metadata": {},
     "output_type": "execute_result"
    },
    {
     "data": {
      "image/png": "[encoded data removed]",
      "text/plain": [
       "<matplotlib.figure.Figure at 0x11c17f400>"
      ]
     },
     "metadata": {},
     "output_type": "display_data"
    }
   ],
   "source": [
    "sns.distplot(data.loc[data.group=='healthy1', 'H pylori'],  # H pylori values for the sick group\n",
    "             label='healthy1', kde=False)\n",
    "sns.distplot(data.loc[data.group=='healthy2', 'H pylori'],  # H pylori values for the healthy group\n",
    "             label='healthy2', kde=False)\n",
    "plt.legend()"
   ]
  },
  {
   "cell_type": "code",
   "execution_count": 18,
   "metadata": {
    "collapsed": false
   },
   "outputs": [
    {
     "data": {
      "text/plain": [
       "array([ 50.07901979,  50.67675523,  48.31563361,  49.90073543,\n",
       "        47.53950928,  48.02241465,  51.20414917,  49.6809028 ,\n",
       "        47.43330407,  47.52355984])"
      ]
     },
     "execution_count": 18,
     "metadata": {},
     "output_type": "execute_result"
    }
   ],
   "source": [
    "np.random.normal(50, 2, 10)"
   ]
  },
  {
   "cell_type": "code",
   "execution_count": 19,
   "metadata": {
    "collapsed": false
   },
   "outputs": [
    {
     "name": "stdout",
     "output_type": "stream",
     "text": [
      "pvalue 7.11255123803e-109\n"
     ]
    },
    {
     "data": {
      "text/plain": [
       "<matplotlib.legend.Legend at 0x11fbedcc0>"
      ]
     },
     "execution_count": 19,
     "metadata": {},
     "output_type": "execute_result"
    },
    {
     "data": {
      "image/png": "[encoded data removed]",
      "text/plain": [
       "<matplotlib.figure.Figure at 0x11f97ec88>"
      ]
     },
     "metadata": {},
     "output_type": "display_data"
    }
   ],
   "source": [
    "# big effect size, small pvalues\n",
    "n_many = 700\n",
    "n_few = 300\n",
    "\n",
    "H1 = np.concatenate((np.random.normal(50, 20, size=n_many),\n",
    "                     np.random.normal(10, 20, size=n_few)))\n",
    "S1 = np.concatenate((np.random.normal(400, 20, size=n_many),\n",
    "                     np.random.normal(20, 20, size=n_few)))\n",
    "\n",
    "print('pvalue', mannwhitneyu(H1, S1).pvalue)\n",
    "sns.distplot(H1, label='healthy1', kde=False, bins=np.arange(0,450,10))\n",
    "sns.distplot(S1, label='sick1', kde=False, bins=np.arange(0,450,10))\n",
    "plt.legend()"
   ]
  },
  {
   "cell_type": "code",
   "execution_count": 20,
   "metadata": {
    "collapsed": false
   },
   "outputs": [
    {
     "name": "stdout",
     "output_type": "stream",
     "text": [
      "pvalue 1.16286355297e-223\n"
     ]
    },
    {
     "data": {
      "text/plain": [
       "<matplotlib.legend.Legend at 0x11ff10cc0>"
      ]
     },
     "execution_count": 20,
     "metadata": {},
     "output_type": "execute_result"
    },
    {
     "data": {
      "image/png": "[encoded data removed]",
      "text/plain": [
       "<matplotlib.figure.Figure at 0x11fd3a3c8>"
      ]
     },
     "metadata": {},
     "output_type": "display_data"
    }
   ],
   "source": [
    "# small effect size, big pvalues\n",
    "n_many = 500\n",
    "n_few = 200\n",
    "H2 = np.concatenate((np.random.normal(30, 2, n_many),\n",
    "                     np.random.normal(35, 2, n_few)))\n",
    "S2 = np.concatenate((np.random.normal(40, 2, n_many),\n",
    "                     np.random.normal(50, 2, n_few)))\n",
    "print('pvalue', mannwhitneyu(H2, S2).pvalue)\n",
    "\n",
    "sns.distplot(H2, label='healthy2', kde=False, bins=10)\n",
    "sns.distplot(S2, label='sick2', kde=False, bins=10)\n",
    "plt.legend()"
   ]
  },
  {
   "cell_type": "markdown",
   "metadata": {},
   "source": [
    "# Normality problem"
   ]
  },
  {
   "cell_type": "code",
   "execution_count": 21,
   "metadata": {
    "collapsed": false
   },
   "outputs": [],
   "source": [
    "np.random.seed(0)    # set seed for the random numbers\n",
    "data = pd.DataFrame({'group': ['sick']*100 + ['healthy']*100,\n",
    "                     'H pylori': np.concatenate((np.random.normal(8, 2, 100),\n",
    "                                                 np.random.exponential(7, 100)))})"
   ]
  },
  {
   "cell_type": "code",
   "execution_count": 22,
   "metadata": {
    "collapsed": false
   },
   "outputs": [
    {
     "data": {
      "text/plain": [
       "<matplotlib.legend.Legend at 0x11f960ba8>"
      ]
     },
     "execution_count": 22,
     "metadata": {},
     "output_type": "execute_result"
    },
    {
     "data": {
      "image/png": "[encoded data removed]",
      "text/plain": [
       "<matplotlib.figure.Figure at 0x11f954828>"
      ]
     },
     "metadata": {},
     "output_type": "display_data"
    }
   ],
   "source": [
    "sns.distplot(data.loc[data.group=='sick', 'H pylori'],\n",
    "             label='sick', kde=False)\n",
    "sns.distplot(data.loc[data.group=='healthy', 'H pylori'], \n",
    "             label='healthy', kde=False, bins=40)\n",
    "plt.legend()"
   ]
  },
  {
   "cell_type": "code",
   "execution_count": 23,
   "metadata": {
    "collapsed": true
   },
   "outputs": [],
   "source": [
    "t, pvalue = ttest_ind(data.loc[data.group=='sick', 'H pylori'],\n",
    "                      data.loc[data.group=='healthy', 'H pylori'])"
   ]
  },
  {
   "cell_type": "code",
   "execution_count": 24,
   "metadata": {
    "collapsed": false
   },
   "outputs": [
    {
     "data": {
      "text/plain": [
       "1.7283048631832336"
      ]
     },
     "execution_count": 24,
     "metadata": {},
     "output_type": "execute_result"
    }
   ],
   "source": [
    "t"
   ]
  },
  {
   "cell_type": "code",
   "execution_count": 25,
   "metadata": {
    "collapsed": false
   },
   "outputs": [
    {
     "data": {
      "text/plain": [
       "0.085492566172262571"
      ]
     },
     "execution_count": 25,
     "metadata": {},
     "output_type": "execute_result"
    }
   ],
   "source": [
    "pvalue"
   ]
  },
  {
   "cell_type": "code",
   "execution_count": 26,
   "metadata": {
    "collapsed": false
   },
   "outputs": [],
   "source": [
    "u, pvalue = mannwhitneyu(data.loc[data.group=='sick', 'H pylori'],\n",
    "                         data.loc[data.group=='healthy', 'H pylori'])"
   ]
  },
  {
   "cell_type": "code",
   "execution_count": 27,
   "metadata": {
    "collapsed": false
   },
   "outputs": [
    {
     "data": {
      "text/plain": [
       "6858.0"
      ]
     },
     "execution_count": 27,
     "metadata": {},
     "output_type": "execute_result"
    }
   ],
   "source": [
    "u"
   ]
  },
  {
   "cell_type": "code",
   "execution_count": 28,
   "metadata": {
    "collapsed": false
   },
   "outputs": [
    {
     "data": {
      "text/plain": [
       "5.6630320243611011e-06"
      ]
     },
     "execution_count": 28,
     "metadata": {},
     "output_type": "execute_result"
    }
   ],
   "source": [
    "pvalue"
   ]
  },
  {
   "cell_type": "code",
   "execution_count": 29,
   "metadata": {
    "collapsed": true
   },
   "outputs": [],
   "source": [
    "def test_mean(dat1,dat2):\n",
    "    return np.abs(np.mean(dat1)-np.mean(dat2))\n",
    "\n",
    "def permutation_ttest(df1, num_permutations=99):\n",
    "    df=df1.copy()\n",
    "    ts = np.zeros(num_permutations)\n",
    "    t,p = mannwhitneyu(df.loc[df.group=='sick', 'H pylori'],\n",
    "                          df.loc[df.group=='healthy', 'H pylori'])\n",
    "    print(t)\n",
    "    for i in range(num_permutations):\n",
    "        df['group'] = np.random.permutation(df.group)\n",
    "        t_,p = mannwhitneyu(df.loc[df.group=='sick', 'H pylori'],\n",
    "                               df.loc[df.group=='healthy', 'H pylori'])\n",
    "        ts[i] = t_\n",
    "    pvalue = (1 + (t >= ts).sum() )/ (num_permutations + 1)\n",
    "    return pvalue"
   ]
  },
  {
   "cell_type": "code",
   "execution_count": 30,
   "metadata": {
    "collapsed": false
   },
   "outputs": [
    {
     "name": "stdout",
     "output_type": "stream",
     "text": [
      "6858.0\n"
     ]
    },
    {
     "data": {
      "text/plain": [
       "1.0"
      ]
     },
     "execution_count": 30,
     "metadata": {},
     "output_type": "execute_result"
    }
   ],
   "source": [
    "pvalue = permutation_ttest(data)\n",
    "pvalue"
   ]
  },
  {
   "cell_type": "markdown",
   "metadata": {},
   "source": [
    "# Multiple hypothesis testing problem\n",
    "A p-value of 0.05 for the null hypothesis means we will get such a significant result under the null hypothesis in 0.05 of the cases\n",
    "\n",
    "So if we do the test multiple times (say 100), it means that in 5 times out of the 100 the null hypothesis will be rejected and we will have false positives."
   ]
  },
  {
   "cell_type": "markdown",
   "metadata": {},
   "source": [
    "When we look at a typical microbiome experiment, we have order of 1000 bacteria for which we want to test if they are different between sick and H\n",
    "\n",
    "Even if all bacteria are not different (the null hypothesis holds for all of them), if we just take the 0.05 p-value cutoff, we will reject 50 of bacteria and say they are different (and if we will look at their distribution, they will be convincing!)"
   ]
  },
  {
   "cell_type": "code",
   "execution_count": 69,
   "metadata": {
    "collapsed": true
   },
   "outputs": [],
   "source": [
    "num_healthy = 100\n",
    "num_sick = 100\n",
    "num_samples = num_healthy + num_sick\n",
    "num_otus = 1000\n",
    "\n",
    "np.random.seed(0)    # set seed for the random numbers\n",
    "\n",
    "# generate non random data\n",
    "otu_ids = np.arange(num_otus)  # simulated OTU ids\n",
    "\n",
    "# randomly grab 200 values uniformly distributed between (0, 10) for each OTU\n",
    "random_data = pd.DataFrame({i: np.random.uniform(low=0.0, high=10.0, size=num_samples) for i in otu_ids})\n",
    "random_data['group'] = ['healthy'] * num_healthy + ['sick'] * num_sick"
   ]
  },
  {
   "cell_type": "code",
   "execution_count": 70,
   "metadata": {
    "collapsed": false
   },
   "outputs": [],
   "source": [
    "stats = pd.DataFrame(index=otu_ids)\n",
    "for i in otu_ids:\n",
    "    t, pvalue = mannwhitneyu(random_data.loc[random_data.group=='sick', i],\n",
    "                             random_data.loc[random_data.group=='healthy', i])\n",
    "    stats.loc[i, 't'] = t\n",
    "    stats.loc[i, 'pvalue'] = pvalue"
   ]
  },
  {
   "cell_type": "code",
   "execution_count": 71,
   "metadata": {
    "collapsed": true
   },
   "outputs": [],
   "source": [
    "# create a dataset with a real difference between sick and healthy\n",
    "num_healthy=50\n",
    "num_sick=50\n",
    "\n",
    "healthy_data = pd.DataFrame({i: np.random.normal(8, 2, size=num_healthy) for i in otu_ids})\n",
    "sick_data = pd.DataFrame({i: np.random.normal(7, 2, size=num_sick) for i in otu_ids})\n",
    "\n",
    "data = pd.concat((healthy_data, sick_data))\n",
    "data['group'] = ['healthy'] * num_healthy + ['sick'] * num_sick"
   ]
  },
  {
   "cell_type": "code",
   "execution_count": 72,
   "metadata": {
    "collapsed": true
   },
   "outputs": [],
   "source": [
    "realstats = pd.DataFrame(index=otu_ids)\n",
    "for i in otu_ids:\n",
    "    t, pvalue = mannwhitneyu(data.loc[data.group=='sick', i],\n",
    "                             data.loc[data.group=='healthy', i])\n",
    "    realstats.loc[i, 't'] = t\n",
    "    realstats.loc[i, 'pvalue'] = pvalue"
   ]
  },
  {
   "cell_type": "code",
   "execution_count": 73,
   "metadata": {
    "collapsed": true
   },
   "outputs": [],
   "source": [
    "# create a dataset with a real difference between sick and healthy\n",
    "num_healthy=50\n",
    "num_sick=50\n",
    "\n",
    "healthy_data = pd.DataFrame({i: np.random.normal(8, 2, size=num_healthy) for i in otu_ids})\n",
    "sick_data = pd.DataFrame({i: np.random.normal(7, 2, size=num_sick) for i in otu_ids})\n",
    "\n",
    "data = pd.concat((healthy_data, sick_data))\n",
    "data['group'] = ['healthy'] * num_healthy + ['sick'] * num_sick"
   ]
  },
  {
   "cell_type": "code",
   "execution_count": 74,
   "metadata": {
    "collapsed": false
   },
   "outputs": [
    {
     "data": {
      "text/html": [
       "<div>\n",
       "<table border=\"1\" class=\"dataframe\">\n",
       "  <thead>\n",
       "    <tr style=\"text-align: right;\">\n",
       "      <th></th>\n",
       "      <th>t</th>\n",
       "      <th>pvalue</th>\n",
       "    </tr>\n",
       "  </thead>\n",
       "  <tbody>\n",
       "    <tr>\n",
       "      <th>692</th>\n",
       "      <td>6240.0</td>\n",
       "      <td>0.002457</td>\n",
       "    </tr>\n",
       "    <tr>\n",
       "      <th>589</th>\n",
       "      <td>3782.0</td>\n",
       "      <td>0.002932</td>\n",
       "    </tr>\n",
       "    <tr>\n",
       "      <th>332</th>\n",
       "      <td>3841.0</td>\n",
       "      <td>0.004645</td>\n",
       "    </tr>\n",
       "    <tr>\n",
       "      <th>241</th>\n",
       "      <td>3916.0</td>\n",
       "      <td>0.008111</td>\n",
       "    </tr>\n",
       "    <tr>\n",
       "      <th>201</th>\n",
       "      <td>3918.0</td>\n",
       "      <td>0.008229</td>\n",
       "    </tr>\n",
       "  </tbody>\n",
       "</table>\n",
       "</div>"
      ],
      "text/plain": [
       "          t    pvalue\n",
       "692  6240.0  0.002457\n",
       "589  3782.0  0.002932\n",
       "332  3841.0  0.004645\n",
       "241  3916.0  0.008111\n",
       "201  3918.0  0.008229"
      ]
     },
     "execution_count": 74,
     "metadata": {},
     "output_type": "execute_result"
    }
   ],
   "source": [
    "stats.sort_values(by='pvalue').head()"
   ]
  },
  {
   "cell_type": "code",
   "execution_count": 75,
   "metadata": {
    "collapsed": false
   },
   "outputs": [
    {
     "data": {
      "text/plain": [
       "<matplotlib.legend.Legend at 0x120e49898>"
      ]
     },
     "execution_count": 75,
     "metadata": {},
     "output_type": "execute_result"
    },
    {
     "data": {
      "image/png": "[encoded data removed]",
      "text/plain": [
       "<matplotlib.figure.Figure at 0x120e49ac8>"
      ]
     },
     "metadata": {},
     "output_type": "display_data"
    }
   ],
   "source": [
    "max_otu = stats.pvalue.argmin()\n",
    "sns.distplot(random_data.loc[random_data.group=='sick', max_otu],\n",
    "             label='sick', kde=False, bins=20)\n",
    "sns.distplot(random_data.loc[random_data.group=='healthy', max_otu], \n",
    "             label='healthy', kde=False, bins=20)\n",
    "plt.legend()"
   ]
  },
  {
   "cell_type": "markdown",
   "metadata": {},
   "source": [
    "Just by chance, there is a high chance that there is 1 OTU different between the 2 groups."
   ]
  },
  {
   "cell_type": "markdown",
   "metadata": {},
   "source": [
    "# So what can we do?\n",
    "We cannot change the p-values!\n",
    "\n",
    "But we can change the threshold $\\alpha$ defining when we reject the null hypothesis\n"
   ]
  },
  {
   "cell_type": "markdown",
   "metadata": {},
   "source": [
    "# Bonferroni Correction\n",
    "given a threshold $\\alpha$ for rejecting the null hypothesis for a single bacteria, we define a new threshold for rejection when doing the test on $n$ bacteria by:\n",
    "\n",
    "$\\alpha'=\\frac{\\alpha}{n} $\n",
    "\n",
    "and reject the null hypothesis based on the new $\\alpha'$\n",
    "\n",
    "This controls the Family Wise Error Rate (FWER) to $\\alpha$, meaning the probability that we made at least one false rejection is lower than $\\alpha$\n",
    "\n",
    "The good thing is we do not need to assume independence between the bacteria\n",
    "\n",
    "But we pay a big price in the power!"
   ]
  },
  {
   "cell_type": "code",
   "execution_count": 76,
   "metadata": {
    "collapsed": false
   },
   "outputs": [
    {
     "data": {
      "text/html": [
       "<div>\n",
       "<table border=\"1\" class=\"dataframe\">\n",
       "  <thead>\n",
       "    <tr style=\"text-align: right;\">\n",
       "      <th></th>\n",
       "      <th>t</th>\n",
       "      <th>pvalue</th>\n",
       "      <th>corrected pvalue</th>\n",
       "    </tr>\n",
       "  </thead>\n",
       "  <tbody>\n",
       "    <tr>\n",
       "      <th>692</th>\n",
       "      <td>6240.0</td>\n",
       "      <td>0.002457</td>\n",
       "      <td>0.914572</td>\n",
       "    </tr>\n",
       "    <tr>\n",
       "      <th>589</th>\n",
       "      <td>3782.0</td>\n",
       "      <td>0.002932</td>\n",
       "      <td>0.946759</td>\n",
       "    </tr>\n",
       "    <tr>\n",
       "      <th>332</th>\n",
       "      <td>3841.0</td>\n",
       "      <td>0.004645</td>\n",
       "      <td>0.990406</td>\n",
       "    </tr>\n",
       "    <tr>\n",
       "      <th>241</th>\n",
       "      <td>3916.0</td>\n",
       "      <td>0.008111</td>\n",
       "      <td>0.999702</td>\n",
       "    </tr>\n",
       "    <tr>\n",
       "      <th>201</th>\n",
       "      <td>3918.0</td>\n",
       "      <td>0.008229</td>\n",
       "      <td>0.999733</td>\n",
       "    </tr>\n",
       "  </tbody>\n",
       "</table>\n",
       "</div>"
      ],
      "text/plain": [
       "          t    pvalue  corrected pvalue\n",
       "692  6240.0  0.002457          0.914572\n",
       "589  3782.0  0.002932          0.946759\n",
       "332  3841.0  0.004645          0.990406\n",
       "241  3916.0  0.008111          0.999702\n",
       "201  3918.0  0.008229          0.999733"
      ]
     },
     "execution_count": 76,
     "metadata": {},
     "output_type": "execute_result"
    }
   ],
   "source": [
    "reject, corrected_pvals, sidak, bonf = multipletests(stats.pvalue)\n",
    "stats['corrected pvalue'] = corrected_pvals\n",
    "stats.sort_values(by='pvalue').head()"
   ]
  },
  {
   "cell_type": "code",
   "execution_count": 95,
   "metadata": {
    "collapsed": false
   },
   "outputs": [
    {
     "name": "stdout",
     "output_type": "stream",
     "text": [
      "before Bonferroni correction: 53\n",
      "after Bonferroni correction: 0\n"
     ]
    }
   ],
   "source": [
    "# random data\n",
    "num_rejects=np.sum(stats.pvalue<=0.05)\n",
    "reject, corrected_pvals, sidak, bonf = multipletests(stats.pvalue)\n",
    "num_bonf_rejects=np.sum(corrected_pvals<=0.05)\n",
    "print('before Bonferroni correction: %d' % num_rejects)\n",
    "print('after Bonferroni correction: %d' % num_bonf_rejects)"
   ]
  },
  {
   "cell_type": "code",
   "execution_count": 96,
   "metadata": {
    "collapsed": false
   },
   "outputs": [
    {
     "name": "stdout",
     "output_type": "stream",
     "text": [
      "before Bonferroni correction: 667\n",
      "after Bonferroni correction: 37\n"
     ]
    }
   ],
   "source": [
    "# real difference data\n",
    "num_rejects=np.sum(realstats.pvalue<=0.05)\n",
    "reject, corrected_pvals, sidak, bonf = multipletests(realstats.pvalue)\n",
    "num_bonf_rejects=np.sum(corrected_pvals<=0.05)\n",
    "print('before Bonferroni correction: %d' % num_rejects)\n",
    "print('after Bonferroni correction: %d' % num_bonf_rejects)\n",
    "\n"
   ]
  },
  {
   "cell_type": "markdown",
   "metadata": {},
   "source": [
    "# False Discovery Rate control (FDR)\n",
    "Sometimes we don't mind making mistakes, as long as we don't make too many.\n",
    "\n",
    "If we relax our restriction (that with very high probability all rejects are correct) and instead require only that the fraction of false rejects will be small, we can have more power.\n",
    "\n",
    "Testing with a given FDR value $q$ means:\n",
    "$\\frac{\\text{number of false rejections}}{\\text{total rejections}}\\leq q$\n",
    "\n",
    "And using FDR methods (such as Benjamini-Hochberg) we can find the p-value cutoff that guarantees controlling the FDR.\n",
    "\n",
    "The good thing: this cutoff is usually much higher than Bonferroni\n"
   ]
  },
  {
   "cell_type": "code",
   "execution_count": 97,
   "metadata": {
    "collapsed": false
   },
   "outputs": [
    {
     "name": "stdout",
     "output_type": "stream",
     "text": [
      "before FDR-BH correction: 53\n",
      "after FDR-BH correction: 0\n"
     ]
    }
   ],
   "source": [
    "# random data\n",
    "num_rejects=np.sum(stats.pvalue<=0.05)\n",
    "reject,a,b,c = multipletests(stats.pvalue,method = 'fdr_bh')\n",
    "num_fdr_rejects=np.sum(reject==True)\n",
    "print('before FDR-BH correction: %d' % num_rejects)\n",
    "print('after FDR-BH correction: %d' % num_fdr_rejects)\n"
   ]
  },
  {
   "cell_type": "code",
   "execution_count": 100,
   "metadata": {
    "collapsed": false
   },
   "outputs": [
    {
     "name": "stdout",
     "output_type": "stream",
     "text": [
      "before FDR-BH correction: 667\n",
      "after FDR-BH correction: 606\n",
      "(after Bonferroni correction it was: 37)\n"
     ]
    }
   ],
   "source": [
    "# real difference data\n",
    "num_rejects=np.sum(realstats.pvalue<=0.05)\n",
    "reject,a,b,c = multipletests(realstats.pvalue,method = 'fdr_bh')\n",
    "num_fdr_rejects=np.sum(reject==True)\n",
    "print('before FDR-BH correction: %d' % num_rejects)\n",
    "print('after FDR-BH correction: %d' % num_fdr_rejects)\n",
    "print('(after Bonferroni correction it was: %d)' % num_bonf_rejects)"
   ]
  },
  {
   "cell_type": "markdown",
   "metadata": {},
   "source": [
    "# Compositionality problem"
   ]
  },
  {
   "cell_type": "code",
   "execution_count": 101,
   "metadata": {
    "collapsed": true
   },
   "outputs": [],
   "source": [
    "num_healthy = 100\n",
    "num_sick = 100\n",
    "num_samples = num_healthy + num_sick\n",
    "num_otus = 1000\n",
    "data = pd.DataFrame({i: np.random.uniform(low=0.0, high=10.0, size=num_samples) for i in otu_ids})\n",
    "\n",
    "# Simulate a bloom.  OTU0 increases by a factor of 10 at each sample\n",
    "data.loc[:, 0] = np.arange(num_samples) * 10\n",
    "\n",
    "# normalize down to proportions.  See week1.sample.ipynb for further explanation.\n",
    "data = data.apply(lambda x : x/x.sum(), axis=1)"
   ]
  },
  {
   "cell_type": "code",
   "execution_count": 102,
   "metadata": {
    "collapsed": false
   },
   "outputs": [
    {
     "data": {
      "text/plain": [
       "<seaborn.axisgrid.FacetGrid at 0x120eed470>"
      ]
     },
     "execution_count": 102,
     "metadata": {},
     "output_type": "execute_result"
    },
    {
     "data": {
      "image/png": "[encoded data removed]",
      "text/plain": [
       "<matplotlib.figure.Figure at 0x120eedba8>"
      ]
     },
     "metadata": {},
     "output_type": "display_data"
    }
   ],
   "source": [
    "groups = pd.Series(['sick']*num_sick + ['healthy']*num_healthy)\n",
    "data['group'] = groups\n",
    "sns.factorplot(x='group', y=0, data=data, kind='violin')"
   ]
  },
  {
   "cell_type": "code",
   "execution_count": 103,
   "metadata": {
    "collapsed": true
   },
   "outputs": [],
   "source": [
    "stats = pd.DataFrame(index=otu_ids)\n",
    "for i in otu_ids:\n",
    "    t, pvalue = ttest_ind(data.loc[data.group=='sick', i],\n",
    "                          data.loc[data.group=='healthy', i])\n",
    "    stats.loc[i, 't'] = t\n",
    "    stats.loc[i, 'pvalue'] = pvalue\n",
    "\n",
    "# Multiple hypothesis tests\n",
    "reject, pvals, sidak, bonf = multipletests(stats.pvalue)\n",
    "stats['corrected pvalue'] = pvals\n"
   ]
  },
  {
   "cell_type": "code",
   "execution_count": 104,
   "metadata": {
    "collapsed": false
   },
   "outputs": [
    {
     "data": {
      "text/html": [
       "<div>\n",
       "<table border=\"1\" class=\"dataframe\">\n",
       "  <thead>\n",
       "    <tr style=\"text-align: right;\">\n",
       "      <th></th>\n",
       "      <th>t</th>\n",
       "      <th>pvalue</th>\n",
       "      <th>corrected pvalue</th>\n",
       "    </tr>\n",
       "  </thead>\n",
       "  <tbody>\n",
       "    <tr>\n",
       "      <th>0</th>\n",
       "      <td>-23.801419</td>\n",
       "      <td>5.400683e-60</td>\n",
       "      <td>0.000000</td>\n",
       "    </tr>\n",
       "    <tr>\n",
       "      <th>564</th>\n",
       "      <td>5.525391</td>\n",
       "      <td>1.026957e-07</td>\n",
       "      <td>0.000103</td>\n",
       "    </tr>\n",
       "    <tr>\n",
       "      <th>157</th>\n",
       "      <td>4.893771</td>\n",
       "      <td>2.046080e-06</td>\n",
       "      <td>0.002040</td>\n",
       "    </tr>\n",
       "    <tr>\n",
       "      <th>641</th>\n",
       "      <td>4.659498</td>\n",
       "      <td>5.810784e-06</td>\n",
       "      <td>0.005777</td>\n",
       "    </tr>\n",
       "    <tr>\n",
       "      <th>599</th>\n",
       "      <td>4.594507</td>\n",
       "      <td>7.711313e-06</td>\n",
       "      <td>0.007651</td>\n",
       "    </tr>\n",
       "  </tbody>\n",
       "</table>\n",
       "</div>"
      ],
      "text/plain": [
       "             t        pvalue  corrected pvalue\n",
       "0   -23.801419  5.400683e-60          0.000000\n",
       "564   5.525391  1.026957e-07          0.000103\n",
       "157   4.893771  2.046080e-06          0.002040\n",
       "641   4.659498  5.810784e-06          0.005777\n",
       "599   4.594507  7.711313e-06          0.007651"
      ]
     },
     "execution_count": 104,
     "metadata": {},
     "output_type": "execute_result"
    }
   ],
   "source": [
    "stats.sort_values(by='pvalue').head()    "
   ]
  },
  {
   "cell_type": "markdown",
   "metadata": {},
   "source": [
    "The main take away.  Every statistical test has its own set of assumptions. \n",
    "\n",
    "Other tests\n",
    "- ANOVA\n",
    "- Kruskal Wallis test\n",
    "- Kolmogorov Smirnov test\n",
    "- Permutation tests \n",
    "- Many many others"
   ]
  },
  {
   "cell_type": "code",
   "execution_count": null,
   "metadata": {
    "collapsed": true
   },
   "outputs": [],
   "source": []
  }
 ],
 "metadata": {
  "celltoolbar": "Slideshow",
  "kernelspec": {
   "display_name": "Python 3",
   "language": "python",
   "name": "python3"
  },
  "language_info": {
   "codemirror_mode": {
    "name": "ipython",
    "version": 3
   },
   "file_extension": ".py",
   "mimetype": "text/x-python",
   "name": "python",
   "nbconvert_exporter": "python",
   "pygments_lexer": "ipython3",
   "version": "3.5.1"
  }
 },
 "nbformat": 4,
 "nbformat_minor": 0
}
